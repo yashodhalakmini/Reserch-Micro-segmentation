{
 "cells": [
  {
   "cell_type": "code",
   "execution_count": 1,
   "metadata": {},
   "outputs": [],
   "source": [
    "import numpy as np\n",
    "import pandas as pd\n",
    "import matplotlib.pyplot as plt\n",
    "%matplotlib inline\n",
    "import datetime as dt\n",
    "from scipy import stats\n",
    "import jenkspy\n",
    "import seaborn as sns\n",
    "import warnings\n",
    "warnings.filterwarnings(\"ignore\")\n",
    "import squarify"
   ]
  },
  {
   "cell_type": "code",
   "execution_count": 2,
   "metadata": {},
   "outputs": [],
   "source": [
    "data = pd.read_csv('C:/Users/Acer Pc/Desktop/Final/Final DataSet/New folder/InsuranceClaim_data.csv')"
   ]
  },
  {
   "cell_type": "code",
   "execution_count": 3,
   "metadata": {},
   "outputs": [
    {
     "data": {
      "text/html": [
       "<div>\n",
       "<style scoped>\n",
       "    .dataframe tbody tr th:only-of-type {\n",
       "        vertical-align: middle;\n",
       "    }\n",
       "\n",
       "    .dataframe tbody tr th {\n",
       "        vertical-align: top;\n",
       "    }\n",
       "\n",
       "    .dataframe thead th {\n",
       "        text-align: right;\n",
       "    }\n",
       "</style>\n",
       "<table border=\"1\" class=\"dataframe\">\n",
       "  <thead>\n",
       "    <tr style=\"text-align: right;\">\n",
       "      <th></th>\n",
       "      <th>Customer_ID</th>\n",
       "      <th>Claim_Invoice_No</th>\n",
       "      <th>Date</th>\n",
       "      <th>Age</th>\n",
       "      <th>Disease</th>\n",
       "      <th>Gender</th>\n",
       "      <th>BMI</th>\n",
       "      <th>Children</th>\n",
       "      <th>Smoker</th>\n",
       "      <th>Region</th>\n",
       "      <th>Charges</th>\n",
       "    </tr>\n",
       "  </thead>\n",
       "  <tbody>\n",
       "    <tr>\n",
       "      <th>0</th>\n",
       "      <td>4.892870e+10</td>\n",
       "      <td>1.640020e+11</td>\n",
       "      <td>4/17/2019</td>\n",
       "      <td>33</td>\n",
       "      <td>Urology</td>\n",
       "      <td>Male</td>\n",
       "      <td>33.4</td>\n",
       "      <td>3</td>\n",
       "      <td>1</td>\n",
       "      <td>2</td>\n",
       "      <td>38282.74950</td>\n",
       "    </tr>\n",
       "    <tr>\n",
       "      <th>1</th>\n",
       "      <td>4.892870e+10</td>\n",
       "      <td>1.640090e+11</td>\n",
       "      <td>7/4/2019</td>\n",
       "      <td>33</td>\n",
       "      <td>Urology</td>\n",
       "      <td>Male</td>\n",
       "      <td>33.4</td>\n",
       "      <td>3</td>\n",
       "      <td>1</td>\n",
       "      <td>2</td>\n",
       "      <td>36898.73308</td>\n",
       "    </tr>\n",
       "    <tr>\n",
       "      <th>2</th>\n",
       "      <td>4.892870e+10</td>\n",
       "      <td>1.650080e+11</td>\n",
       "      <td>6/7/2020</td>\n",
       "      <td>33</td>\n",
       "      <td>Urology</td>\n",
       "      <td>Male</td>\n",
       "      <td>33.4</td>\n",
       "      <td>3</td>\n",
       "      <td>1</td>\n",
       "      <td>2</td>\n",
       "      <td>48824.45000</td>\n",
       "    </tr>\n",
       "    <tr>\n",
       "      <th>3</th>\n",
       "      <td>4.892870e+10</td>\n",
       "      <td>1.650090e+11</td>\n",
       "      <td>7/26/2020</td>\n",
       "      <td>33</td>\n",
       "      <td>Urology</td>\n",
       "      <td>Male</td>\n",
       "      <td>33.4</td>\n",
       "      <td>3</td>\n",
       "      <td>1</td>\n",
       "      <td>2</td>\n",
       "      <td>38415.47400</td>\n",
       "    </tr>\n",
       "    <tr>\n",
       "      <th>4</th>\n",
       "      <td>4.892870e+10</td>\n",
       "      <td>1.643320e+11</td>\n",
       "      <td>1/5/2020</td>\n",
       "      <td>33</td>\n",
       "      <td>Urology</td>\n",
       "      <td>Male</td>\n",
       "      <td>33.4</td>\n",
       "      <td>3</td>\n",
       "      <td>1</td>\n",
       "      <td>2</td>\n",
       "      <td>37465.34375</td>\n",
       "    </tr>\n",
       "  </tbody>\n",
       "</table>\n",
       "</div>"
      ],
      "text/plain": [
       "    Customer_ID  Claim_Invoice_No       Date  Age  Disease Gender   BMI  \\\n",
       "0  4.892870e+10      1.640020e+11  4/17/2019   33  Urology   Male  33.4   \n",
       "1  4.892870e+10      1.640090e+11   7/4/2019   33  Urology   Male  33.4   \n",
       "2  4.892870e+10      1.650080e+11   6/7/2020   33  Urology   Male  33.4   \n",
       "3  4.892870e+10      1.650090e+11  7/26/2020   33  Urology   Male  33.4   \n",
       "4  4.892870e+10      1.643320e+11   1/5/2020   33  Urology   Male  33.4   \n",
       "\n",
       "   Children  Smoker  Region      Charges  \n",
       "0         3       1       2  38282.74950  \n",
       "1         3       1       2  36898.73308  \n",
       "2         3       1       2  48824.45000  \n",
       "3         3       1       2  38415.47400  \n",
       "4         3       1       2  37465.34375  "
      ]
     },
     "execution_count": 3,
     "metadata": {},
     "output_type": "execute_result"
    }
   ],
   "source": [
    "data.head()"
   ]
  },
  {
   "cell_type": "code",
   "execution_count": 4,
   "metadata": {},
   "outputs": [
    {
     "data": {
      "text/html": [
       "<div>\n",
       "<style scoped>\n",
       "    .dataframe tbody tr th:only-of-type {\n",
       "        vertical-align: middle;\n",
       "    }\n",
       "\n",
       "    .dataframe tbody tr th {\n",
       "        vertical-align: top;\n",
       "    }\n",
       "\n",
       "    .dataframe thead th {\n",
       "        text-align: right;\n",
       "    }\n",
       "</style>\n",
       "<table border=\"1\" class=\"dataframe\">\n",
       "  <thead>\n",
       "    <tr style=\"text-align: right;\">\n",
       "      <th></th>\n",
       "      <th>Customer_ID</th>\n",
       "      <th>Claim_Invoice_No</th>\n",
       "      <th>Date</th>\n",
       "      <th>Age</th>\n",
       "      <th>Disease</th>\n",
       "      <th>Gender</th>\n",
       "      <th>BMI</th>\n",
       "      <th>Children</th>\n",
       "      <th>Smoker</th>\n",
       "      <th>Region</th>\n",
       "      <th>Charges</th>\n",
       "    </tr>\n",
       "  </thead>\n",
       "  <tbody>\n",
       "    <tr>\n",
       "      <th>995</th>\n",
       "      <td>141199.0</td>\n",
       "      <td>3690637.0</td>\n",
       "      <td>10/21/2019</td>\n",
       "      <td>27</td>\n",
       "      <td>Urology</td>\n",
       "      <td>Male</td>\n",
       "      <td>33.33</td>\n",
       "      <td>4</td>\n",
       "      <td>1</td>\n",
       "      <td>2</td>\n",
       "      <td>37370.10</td>\n",
       "    </tr>\n",
       "    <tr>\n",
       "      <th>996</th>\n",
       "      <td>141199.0</td>\n",
       "      <td>3799137.0</td>\n",
       "      <td>4/20/2019</td>\n",
       "      <td>27</td>\n",
       "      <td>Urology</td>\n",
       "      <td>Male</td>\n",
       "      <td>33.33</td>\n",
       "      <td>4</td>\n",
       "      <td>1</td>\n",
       "      <td>2</td>\n",
       "      <td>36080.28</td>\n",
       "    </tr>\n",
       "    <tr>\n",
       "      <th>997</th>\n",
       "      <td>777906.0</td>\n",
       "      <td>108218.0</td>\n",
       "      <td>7/28/2020</td>\n",
       "      <td>62</td>\n",
       "      <td>Intestinal infectious diseases</td>\n",
       "      <td>Male</td>\n",
       "      <td>37.67</td>\n",
       "      <td>3</td>\n",
       "      <td>1</td>\n",
       "      <td>1</td>\n",
       "      <td>28468.00</td>\n",
       "    </tr>\n",
       "    <tr>\n",
       "      <th>998</th>\n",
       "      <td>777906.0</td>\n",
       "      <td>108218.0</td>\n",
       "      <td>6/3/2020</td>\n",
       "      <td>62</td>\n",
       "      <td>Intestinal infectious diseases</td>\n",
       "      <td>Male</td>\n",
       "      <td>37.67</td>\n",
       "      <td>3</td>\n",
       "      <td>1</td>\n",
       "      <td>1</td>\n",
       "      <td>27926.50</td>\n",
       "    </tr>\n",
       "    <tr>\n",
       "      <th>999</th>\n",
       "      <td>777906.0</td>\n",
       "      <td>108218.0</td>\n",
       "      <td>1/31/2020</td>\n",
       "      <td>62</td>\n",
       "      <td>Intestinal infectious diseases</td>\n",
       "      <td>Male</td>\n",
       "      <td>37.67</td>\n",
       "      <td>3</td>\n",
       "      <td>1</td>\n",
       "      <td>1</td>\n",
       "      <td>46710.20</td>\n",
       "    </tr>\n",
       "  </tbody>\n",
       "</table>\n",
       "</div>"
      ],
      "text/plain": [
       "     Customer_ID  Claim_Invoice_No        Date  Age  \\\n",
       "995     141199.0         3690637.0  10/21/2019   27   \n",
       "996     141199.0         3799137.0   4/20/2019   27   \n",
       "997     777906.0          108218.0   7/28/2020   62   \n",
       "998     777906.0          108218.0    6/3/2020   62   \n",
       "999     777906.0          108218.0   1/31/2020   62   \n",
       "\n",
       "                            Disease Gender    BMI  Children  Smoker  Region  \\\n",
       "995                         Urology   Male  33.33         4       1       2   \n",
       "996                         Urology   Male  33.33         4       1       2   \n",
       "997  Intestinal infectious diseases   Male  37.67         3       1       1   \n",
       "998  Intestinal infectious diseases   Male  37.67         3       1       1   \n",
       "999  Intestinal infectious diseases   Male  37.67         3       1       1   \n",
       "\n",
       "      Charges  \n",
       "995  37370.10  \n",
       "996  36080.28  \n",
       "997  28468.00  \n",
       "998  27926.50  \n",
       "999  46710.20  "
      ]
     },
     "execution_count": 4,
     "metadata": {},
     "output_type": "execute_result"
    }
   ],
   "source": [
    "data.tail()"
   ]
  },
  {
   "cell_type": "code",
   "execution_count": 5,
   "metadata": {},
   "outputs": [
    {
     "name": "stdout",
     "output_type": "stream",
     "text": [
      "<class 'pandas.core.frame.DataFrame'>\n",
      "RangeIndex: 1000 entries, 0 to 999\n",
      "Data columns (total 11 columns):\n",
      " #   Column            Non-Null Count  Dtype  \n",
      "---  ------            --------------  -----  \n",
      " 0   Customer_ID       1000 non-null   float64\n",
      " 1   Claim_Invoice_No  1000 non-null   float64\n",
      " 2   Date              1000 non-null   object \n",
      " 3   Age               1000 non-null   int64  \n",
      " 4   Disease           1000 non-null   object \n",
      " 5   Gender            1000 non-null   object \n",
      " 6   BMI               1000 non-null   float64\n",
      " 7   Children          1000 non-null   int64  \n",
      " 8   Smoker            1000 non-null   int64  \n",
      " 9   Region            1000 non-null   int64  \n",
      " 10  Charges           1000 non-null   float64\n",
      "dtypes: float64(4), int64(4), object(3)\n",
      "memory usage: 86.1+ KB\n"
     ]
    }
   ],
   "source": [
    "data.info()"
   ]
  },
  {
   "cell_type": "code",
   "execution_count": 6,
   "metadata": {},
   "outputs": [],
   "source": [
    "data= data[pd.notnull(data['Customer_ID'])]"
   ]
  },
  {
   "cell_type": "code",
   "execution_count": 7,
   "metadata": {},
   "outputs": [],
   "source": [
    "filtered_data=data[['Gender','Customer_ID']].drop_duplicates()"
   ]
  },
  {
   "cell_type": "code",
   "execution_count": 8,
   "metadata": {},
   "outputs": [
    {
     "data": {
      "text/plain": [
       "<matplotlib.axes._subplots.AxesSubplot at 0x2410112a288>"
      ]
     },
     "execution_count": 8,
     "metadata": {},
     "output_type": "execute_result"
    },
    {
     "data": {
      "image/png": "[encoded data removed]",
      "text/plain": [
       "<Figure size 432x288 with 1 Axes>"
      ]
     },
     "metadata": {
      "needs_background": "light"
     },
     "output_type": "display_data"
    }
   ],
   "source": [
    "#data.groupby('Gender').count()[\"record_id\"].plot(kind='bar')\n",
    "filtered_data.Gender.value_counts().plot(kind='bar')"
   ]
  },
  {
   "cell_type": "code",
   "execution_count": 9,
   "metadata": {},
   "outputs": [],
   "source": [
    "#select MaleData\n",
    "Male_data=data[data.Gender=='Male']\n"
   ]
  },
  {
   "cell_type": "code",
   "execution_count": 10,
   "metadata": {
    "scrolled": true
   },
   "outputs": [
    {
     "name": "stdout",
     "output_type": "stream",
     "text": [
      "<class 'pandas.core.frame.DataFrame'>\n",
      "Int64Index: 680 entries, 0 to 999\n",
      "Data columns (total 11 columns):\n",
      " #   Column            Non-Null Count  Dtype  \n",
      "---  ------            --------------  -----  \n",
      " 0   Customer_ID       680 non-null    float64\n",
      " 1   Claim_Invoice_No  680 non-null    float64\n",
      " 2   Date              680 non-null    object \n",
      " 3   Age               680 non-null    int64  \n",
      " 4   Disease           680 non-null    object \n",
      " 5   Gender            680 non-null    object \n",
      " 6   BMI               680 non-null    float64\n",
      " 7   Children          680 non-null    int64  \n",
      " 8   Smoker            680 non-null    int64  \n",
      " 9   Region            680 non-null    int64  \n",
      " 10  Charges           680 non-null    float64\n",
      "dtypes: float64(4), int64(4), object(3)\n",
      "memory usage: 63.8+ KB\n"
     ]
    }
   ],
   "source": [
    "Male_data.info()"
   ]
  },
  {
   "cell_type": "code",
   "execution_count": 11,
   "metadata": {
    "scrolled": false
   },
   "outputs": [
    {
     "data": {
      "text/html": [
       "<div>\n",
       "<style scoped>\n",
       "    .dataframe tbody tr th:only-of-type {\n",
       "        vertical-align: middle;\n",
       "    }\n",
       "\n",
       "    .dataframe tbody tr th {\n",
       "        vertical-align: top;\n",
       "    }\n",
       "\n",
       "    .dataframe thead th {\n",
       "        text-align: right;\n",
       "    }\n",
       "</style>\n",
       "<table border=\"1\" class=\"dataframe\">\n",
       "  <thead>\n",
       "    <tr style=\"text-align: right;\">\n",
       "      <th></th>\n",
       "      <th>Customer_ID</th>\n",
       "      <th>Claim_Invoice_No</th>\n",
       "      <th>Age</th>\n",
       "      <th>BMI</th>\n",
       "      <th>Children</th>\n",
       "      <th>Smoker</th>\n",
       "      <th>Region</th>\n",
       "      <th>Charges</th>\n",
       "    </tr>\n",
       "  </thead>\n",
       "  <tbody>\n",
       "    <tr>\n",
       "      <th>count</th>\n",
       "      <td>6.800000e+02</td>\n",
       "      <td>6.800000e+02</td>\n",
       "      <td>680.000000</td>\n",
       "      <td>680.000000</td>\n",
       "      <td>680.000000</td>\n",
       "      <td>680.000000</td>\n",
       "      <td>680.000000</td>\n",
       "      <td>680.000000</td>\n",
       "    </tr>\n",
       "    <tr>\n",
       "      <th>mean</th>\n",
       "      <td>3.121856e+12</td>\n",
       "      <td>1.299943e+11</td>\n",
       "      <td>40.326471</td>\n",
       "      <td>34.120625</td>\n",
       "      <td>1.554412</td>\n",
       "      <td>0.791176</td>\n",
       "      <td>1.714706</td>\n",
       "      <td>34049.884102</td>\n",
       "    </tr>\n",
       "    <tr>\n",
       "      <th>std</th>\n",
       "      <td>1.459928e+13</td>\n",
       "      <td>3.739197e+11</td>\n",
       "      <td>13.950550</td>\n",
       "      <td>12.464122</td>\n",
       "      <td>1.353546</td>\n",
       "      <td>0.406767</td>\n",
       "      <td>1.057028</td>\n",
       "      <td>21323.592015</td>\n",
       "    </tr>\n",
       "    <tr>\n",
       "      <th>min</th>\n",
       "      <td>2.434000e+03</td>\n",
       "      <td>4.931000e+03</td>\n",
       "      <td>18.000000</td>\n",
       "      <td>19.300000</td>\n",
       "      <td>0.000000</td>\n",
       "      <td>0.000000</td>\n",
       "      <td>0.000000</td>\n",
       "      <td>1163.462700</td>\n",
       "    </tr>\n",
       "    <tr>\n",
       "      <th>25%</th>\n",
       "      <td>8.759820e+05</td>\n",
       "      <td>3.325302e+06</td>\n",
       "      <td>27.000000</td>\n",
       "      <td>31.020000</td>\n",
       "      <td>0.000000</td>\n",
       "      <td>1.000000</td>\n",
       "      <td>1.000000</td>\n",
       "      <td>28468.919010</td>\n",
       "    </tr>\n",
       "    <tr>\n",
       "      <th>50%</th>\n",
       "      <td>3.569961e+07</td>\n",
       "      <td>1.624074e+08</td>\n",
       "      <td>42.000000</td>\n",
       "      <td>33.960000</td>\n",
       "      <td>1.000000</td>\n",
       "      <td>1.000000</td>\n",
       "      <td>2.000000</td>\n",
       "      <td>36397.576000</td>\n",
       "    </tr>\n",
       "    <tr>\n",
       "      <th>75%</th>\n",
       "      <td>1.873399e+10</td>\n",
       "      <td>1.615330e+11</td>\n",
       "      <td>52.000000</td>\n",
       "      <td>36.900000</td>\n",
       "      <td>3.000000</td>\n",
       "      <td>1.000000</td>\n",
       "      <td>3.000000</td>\n",
       "      <td>40974.164900</td>\n",
       "    </tr>\n",
       "    <tr>\n",
       "      <th>max</th>\n",
       "      <td>9.420000e+13</td>\n",
       "      <td>1.693820e+12</td>\n",
       "      <td>68.000000</td>\n",
       "      <td>337.400000</td>\n",
       "      <td>4.000000</td>\n",
       "      <td>1.000000</td>\n",
       "      <td>3.000000</td>\n",
       "      <td>462003.000000</td>\n",
       "    </tr>\n",
       "  </tbody>\n",
       "</table>\n",
       "</div>"
      ],
      "text/plain": [
       "        Customer_ID  Claim_Invoice_No         Age         BMI    Children  \\\n",
       "count  6.800000e+02      6.800000e+02  680.000000  680.000000  680.000000   \n",
       "mean   3.121856e+12      1.299943e+11   40.326471   34.120625    1.554412   \n",
       "std    1.459928e+13      3.739197e+11   13.950550   12.464122    1.353546   \n",
       "min    2.434000e+03      4.931000e+03   18.000000   19.300000    0.000000   \n",
       "25%    8.759820e+05      3.325302e+06   27.000000   31.020000    0.000000   \n",
       "50%    3.569961e+07      1.624074e+08   42.000000   33.960000    1.000000   \n",
       "75%    1.873399e+10      1.615330e+11   52.000000   36.900000    3.000000   \n",
       "max    9.420000e+13      1.693820e+12   68.000000  337.400000    4.000000   \n",
       "\n",
       "           Smoker      Region        Charges  \n",
       "count  680.000000  680.000000     680.000000  \n",
       "mean     0.791176    1.714706   34049.884102  \n",
       "std      0.406767    1.057028   21323.592015  \n",
       "min      0.000000    0.000000    1163.462700  \n",
       "25%      1.000000    1.000000   28468.919010  \n",
       "50%      1.000000    2.000000   36397.576000  \n",
       "75%      1.000000    3.000000   40974.164900  \n",
       "max      1.000000    3.000000  462003.000000  "
      ]
     },
     "execution_count": 11,
     "metadata": {},
     "output_type": "execute_result"
    }
   ],
   "source": [
    "Male_data.describe()"
   ]
  },
  {
   "cell_type": "code",
   "execution_count": 12,
   "metadata": {
    "scrolled": false
   },
   "outputs": [
    {
     "data": {
      "image/png": "[encoded data removed]",
      "text/plain": [
       "<Figure size 1080x432 with 1 Axes>"
      ]
     },
     "metadata": {
      "needs_background": "light"
     },
     "output_type": "display_data"
    }
   ],
   "source": [
    "age18_25 = Male_data.Age[(Male_data.Age <= 25) & (Male_data.Age >= 18)]\n",
    "age26_35 = Male_data.Age[(Male_data.Age <= 35) & (Male_data.Age >= 26)]\n",
    "age36_45 = Male_data.Age[(Male_data.Age <= 45) & (Male_data.Age >= 36)]\n",
    "age46_55 = Male_data.Age[(Male_data.Age <= 55) & (Male_data.Age >= 46)]\n",
    "age55above = Male_data.Age[Male_data.Age >= 56]\n",
    "\n",
    "x = [\"18-25\",\"26-35\",\"36-45\",\"46-55\",\"55+\"]\n",
    "y = [len(age18_25.values),len(age26_35.values),len(age36_45.values),len(age46_55.values),len(age55above.values)]\n",
    "\n",
    "plt.figure(figsize=(15,6))\n",
    "sns.barplot(x=x, y=y, palette=\"rocket\")\n",
    "plt.title(\"Number of Customer and Ages\")\n",
    "plt.xlabel(\"Age\")\n",
    "plt.ylabel(\"Number of Customer\")\n",
    "plt.show()"
   ]
  },
  {
   "cell_type": "code",
   "execution_count": 13,
   "metadata": {},
   "outputs": [],
   "source": [
    "#select Age Group\n",
    "#Age_data=Male_data[Male_data.Age=='age36_45']\n",
    "#Disease_data=data[data.Disease=='Diseases of the digestive system']\n",
    "#age36_45 = Male_data.Age[(Male_data.Age <= 45) & (Male_data.Age >= 36)]\n",
    "#Age_data = Male_data.len(age36_45.values)\n",
    " #Age_data =Male_data.Age[(Male_data.Age <= 45) & (Male_data.Age >= 36)]\n",
    "Age_data = Male_data[(Male_data.Age <= 45) & (Male_data.Age >= 36)]"
   ]
  },
  {
   "cell_type": "code",
   "execution_count": 14,
   "metadata": {},
   "outputs": [
    {
     "name": "stdout",
     "output_type": "stream",
     "text": [
      "<class 'pandas.core.frame.DataFrame'>\n",
      "Int64Index: 175 entries, 8 to 985\n",
      "Data columns (total 11 columns):\n",
      " #   Column            Non-Null Count  Dtype  \n",
      "---  ------            --------------  -----  \n",
      " 0   Customer_ID       175 non-null    float64\n",
      " 1   Claim_Invoice_No  175 non-null    float64\n",
      " 2   Date              175 non-null    object \n",
      " 3   Age               175 non-null    int64  \n",
      " 4   Disease           175 non-null    object \n",
      " 5   Gender            175 non-null    object \n",
      " 6   BMI               175 non-null    float64\n",
      " 7   Children          175 non-null    int64  \n",
      " 8   Smoker            175 non-null    int64  \n",
      " 9   Region            175 non-null    int64  \n",
      " 10  Charges           175 non-null    float64\n",
      "dtypes: float64(4), int64(4), object(3)\n",
      "memory usage: 16.4+ KB\n"
     ]
    }
   ],
   "source": [
    "Age_data.info()"
   ]
  },
  {
   "cell_type": "code",
   "execution_count": 15,
   "metadata": {
    "scrolled": false
   },
   "outputs": [
    {
     "data": {
      "text/plain": [
       "<matplotlib.axes._subplots.AxesSubplot at 0x24101b12ec8>"
      ]
     },
     "execution_count": 15,
     "metadata": {},
     "output_type": "execute_result"
    },
    {
     "data": {
      "image/png": "[encoded data removed]",
      "text/plain": [
       "<Figure size 432x288 with 1 Axes>"
      ]
     },
     "metadata": {
      "needs_background": "light"
     },
     "output_type": "display_data"
    }
   ],
   "source": [
    "#data.groupby('Disease').count()[\"record_id\"].plot(kind='bar')\n",
    "#Age_data.Age.value_counts().plot(kind='bar')\n",
    "Age_data.Disease.value_counts().plot(kind='bar')"
   ]
  },
  {
   "cell_type": "code",
   "execution_count": 16,
   "metadata": {},
   "outputs": [],
   "source": [
    "#select Diseases of the digestive system\n",
    "d_data=Age_data[Age_data.Disease=='Diseases of the digestive system']"
   ]
  },
  {
   "cell_type": "code",
   "execution_count": 17,
   "metadata": {},
   "outputs": [],
   "source": [
    "d_data=d_data[['Customer_ID','Date','Claim_Invoice_No','Charges']]"
   ]
  },
  {
   "cell_type": "code",
   "execution_count": 18,
   "metadata": {},
   "outputs": [],
   "source": [
    "PRESENT = dt.datetime(2020,8,10)\n",
    "d_data['Date'] = pd.to_datetime(Age_data['Date'])"
   ]
  },
  {
   "cell_type": "code",
   "execution_count": 19,
   "metadata": {},
   "outputs": [
    {
     "data": {
      "text/plain": [
       "(Timestamp('2019-04-17 00:00:00'), Timestamp('2020-08-02 00:00:00'))"
      ]
     },
     "execution_count": 19,
     "metadata": {},
     "output_type": "execute_result"
    }
   ],
   "source": [
    "d_data['Date'].min(),d_data['Date'].max()"
   ]
  },
  {
   "cell_type": "code",
   "execution_count": 20,
   "metadata": {},
   "outputs": [
    {
     "data": {
      "text/html": [
       "<div>\n",
       "<style scoped>\n",
       "    .dataframe tbody tr th:only-of-type {\n",
       "        vertical-align: middle;\n",
       "    }\n",
       "\n",
       "    .dataframe tbody tr th {\n",
       "        vertical-align: top;\n",
       "    }\n",
       "\n",
       "    .dataframe thead th {\n",
       "        text-align: right;\n",
       "    }\n",
       "</style>\n",
       "<table border=\"1\" class=\"dataframe\">\n",
       "  <thead>\n",
       "    <tr style=\"text-align: right;\">\n",
       "      <th></th>\n",
       "      <th>Customer_ID</th>\n",
       "      <th>Date</th>\n",
       "      <th>Claim_Invoice_No</th>\n",
       "      <th>Charges</th>\n",
       "    </tr>\n",
       "  </thead>\n",
       "  <tbody>\n",
       "    <tr>\n",
       "      <th>59</th>\n",
       "      <td>7.930138e+10</td>\n",
       "      <td>2020-07-27</td>\n",
       "      <td>1.656020e+11</td>\n",
       "      <td>41661.6020</td>\n",
       "    </tr>\n",
       "    <tr>\n",
       "      <th>60</th>\n",
       "      <td>7.930138e+10</td>\n",
       "      <td>2020-08-02</td>\n",
       "      <td>1.657030e+11</td>\n",
       "      <td>39611.7577</td>\n",
       "    </tr>\n",
       "    <tr>\n",
       "      <th>61</th>\n",
       "      <td>7.930138e+10</td>\n",
       "      <td>2020-05-02</td>\n",
       "      <td>1.647130e+11</td>\n",
       "      <td>37079.3720</td>\n",
       "    </tr>\n",
       "    <tr>\n",
       "      <th>62</th>\n",
       "      <td>7.930138e+10</td>\n",
       "      <td>2020-03-12</td>\n",
       "      <td>1.647120e+11</td>\n",
       "      <td>36950.2567</td>\n",
       "    </tr>\n",
       "    <tr>\n",
       "      <th>63</th>\n",
       "      <td>7.930138e+10</td>\n",
       "      <td>2020-02-15</td>\n",
       "      <td>1.647080e+11</td>\n",
       "      <td>38709.1760</td>\n",
       "    </tr>\n",
       "  </tbody>\n",
       "</table>\n",
       "</div>"
      ],
      "text/plain": [
       "     Customer_ID       Date  Claim_Invoice_No     Charges\n",
       "59  7.930138e+10 2020-07-27      1.656020e+11  41661.6020\n",
       "60  7.930138e+10 2020-08-02      1.657030e+11  39611.7577\n",
       "61  7.930138e+10 2020-05-02      1.647130e+11  37079.3720\n",
       "62  7.930138e+10 2020-03-12      1.647120e+11  36950.2567\n",
       "63  7.930138e+10 2020-02-15      1.647080e+11  38709.1760"
      ]
     },
     "execution_count": 20,
     "metadata": {},
     "output_type": "execute_result"
    }
   ],
   "source": [
    "d_data.head()"
   ]
  },
  {
   "cell_type": "code",
   "execution_count": 21,
   "metadata": {},
   "outputs": [],
   "source": [
    "rfm= d_data.groupby('Customer_ID').agg({'Date': lambda date: (PRESENT - date.max()).days,\n",
    "'Claim_Invoice_No': lambda num: len(num),\n",
    "'Charges': lambda price: price.sum()})"
   ]
  },
  {
   "cell_type": "code",
   "execution_count": 22,
   "metadata": {},
   "outputs": [],
   "source": [
    "#RECENCY (R): Days since last Claim\n",
    "#FREQUENCY (F): Total number of Claims\n",
    "#MONETARY VALUE (M): Total claim charge for this policyholder"
   ]
  },
  {
   "cell_type": "code",
   "execution_count": 23,
   "metadata": {},
   "outputs": [
    {
     "data": {
      "text/plain": [
       "Index(['Date', 'Claim_Invoice_No', 'Charges'], dtype='object')"
      ]
     },
     "execution_count": 23,
     "metadata": {},
     "output_type": "execute_result"
    }
   ],
   "source": [
    "rfm.columns"
   ]
  },
  {
   "cell_type": "code",
   "execution_count": 24,
   "metadata": {},
   "outputs": [],
   "source": [
    "# Change the name of columns\n",
    "rfm.columns=['Recency','Frequency','Monetary']"
   ]
  },
  {
   "cell_type": "code",
   "execution_count": 25,
   "metadata": {},
   "outputs": [],
   "source": [
    "rfm['Recency'] = rfm['Recency'].astype(int)"
   ]
  },
  {
   "cell_type": "code",
   "execution_count": 26,
   "metadata": {},
   "outputs": [
    {
     "data": {
      "text/html": [
       "<div>\n",
       "<style scoped>\n",
       "    .dataframe tbody tr th:only-of-type {\n",
       "        vertical-align: middle;\n",
       "    }\n",
       "\n",
       "    .dataframe tbody tr th {\n",
       "        vertical-align: top;\n",
       "    }\n",
       "\n",
       "    .dataframe thead th {\n",
       "        text-align: right;\n",
       "    }\n",
       "</style>\n",
       "<table border=\"1\" class=\"dataframe\">\n",
       "  <thead>\n",
       "    <tr style=\"text-align: right;\">\n",
       "      <th></th>\n",
       "      <th>Recency</th>\n",
       "      <th>Frequency</th>\n",
       "      <th>Monetary</th>\n",
       "    </tr>\n",
       "    <tr>\n",
       "      <th>Customer_ID</th>\n",
       "      <th></th>\n",
       "      <th></th>\n",
       "      <th></th>\n",
       "    </tr>\n",
       "  </thead>\n",
       "  <tbody>\n",
       "    <tr>\n",
       "      <th>849386.0</th>\n",
       "      <td>28</td>\n",
       "      <td>3.0</td>\n",
       "      <td>120702.47000</td>\n",
       "    </tr>\n",
       "    <tr>\n",
       "      <th>7930137.0</th>\n",
       "      <td>8</td>\n",
       "      <td>8.0</td>\n",
       "      <td>338279.21800</td>\n",
       "    </tr>\n",
       "    <tr>\n",
       "      <th>10293501.0</th>\n",
       "      <td>9</td>\n",
       "      <td>5.0</td>\n",
       "      <td>198634.62555</td>\n",
       "    </tr>\n",
       "    <tr>\n",
       "      <th>59223614.0</th>\n",
       "      <td>74</td>\n",
       "      <td>3.0</td>\n",
       "      <td>127614.44830</td>\n",
       "    </tr>\n",
       "    <tr>\n",
       "      <th>66950680.0</th>\n",
       "      <td>80</td>\n",
       "      <td>4.0</td>\n",
       "      <td>167888.76422</td>\n",
       "    </tr>\n",
       "  </tbody>\n",
       "</table>\n",
       "</div>"
      ],
      "text/plain": [
       "             Recency  Frequency      Monetary\n",
       "Customer_ID                                  \n",
       "849386.0          28        3.0  120702.47000\n",
       "7930137.0          8        8.0  338279.21800\n",
       "10293501.0         9        5.0  198634.62555\n",
       "59223614.0        74        3.0  127614.44830\n",
       "66950680.0        80        4.0  167888.76422"
      ]
     },
     "execution_count": 26,
     "metadata": {},
     "output_type": "execute_result"
    }
   ],
   "source": [
    "rfm.head()"
   ]
  },
  {
   "cell_type": "code",
   "execution_count": 27,
   "metadata": {},
   "outputs": [
    {
     "data": {
      "text/html": [
       "<div>\n",
       "<style scoped>\n",
       "    .dataframe tbody tr th:only-of-type {\n",
       "        vertical-align: middle;\n",
       "    }\n",
       "\n",
       "    .dataframe tbody tr th {\n",
       "        vertical-align: top;\n",
       "    }\n",
       "\n",
       "    .dataframe thead th {\n",
       "        text-align: right;\n",
       "    }\n",
       "</style>\n",
       "<table border=\"1\" class=\"dataframe\">\n",
       "  <thead>\n",
       "    <tr style=\"text-align: right;\">\n",
       "      <th></th>\n",
       "      <th>Recency</th>\n",
       "      <th>Frequency</th>\n",
       "      <th>Monetary</th>\n",
       "    </tr>\n",
       "  </thead>\n",
       "  <tbody>\n",
       "    <tr>\n",
       "      <th>0.25</th>\n",
       "      <td>8.0</td>\n",
       "      <td>3.75</td>\n",
       "      <td>129469.705442</td>\n",
       "    </tr>\n",
       "    <tr>\n",
       "      <th>0.50</th>\n",
       "      <td>9.0</td>\n",
       "      <td>4.00</td>\n",
       "      <td>164838.764270</td>\n",
       "    </tr>\n",
       "    <tr>\n",
       "      <th>0.75</th>\n",
       "      <td>74.0</td>\n",
       "      <td>5.75</td>\n",
       "      <td>228120.481910</td>\n",
       "    </tr>\n",
       "  </tbody>\n",
       "</table>\n",
       "</div>"
      ],
      "text/plain": [
       "      Recency  Frequency       Monetary\n",
       "0.25      8.0       3.75  129469.705442\n",
       "0.50      9.0       4.00  164838.764270\n",
       "0.75     74.0       5.75  228120.481910"
      ]
     },
     "execution_count": 27,
     "metadata": {},
     "output_type": "execute_result"
    }
   ],
   "source": [
    "quantiles = rfm.quantile(q=[0.25,0.5,0.75])\n",
    "quantiles"
   ]
  },
  {
   "cell_type": "code",
   "execution_count": 28,
   "metadata": {},
   "outputs": [
    {
     "data": {
      "text/plain": [
       "{'Recency': {0.25: 8.0, 0.5: 9.0, 0.75: 74.0},\n",
       " 'Frequency': {0.25: 3.75, 0.5: 4.0, 0.75: 5.75},\n",
       " 'Monetary': {0.25: 129469.7054425, 0.5: 164838.76427, 0.75: 228120.48191}}"
      ]
     },
     "execution_count": 28,
     "metadata": {},
     "output_type": "execute_result"
    }
   ],
   "source": [
    "quantiles.to_dict()"
   ]
  },
  {
   "cell_type": "code",
   "execution_count": 29,
   "metadata": {},
   "outputs": [],
   "source": [
    "# Arguments (x = value, p = recency, monetary_value, frequency, d = quartiles dict)\n",
    "def RScore(x,p,d):\n",
    "    if x <= d[p][0.25]:\n",
    "        return 4\n",
    "    elif x <= d[p][0.50]:\n",
    "        return 3\n",
    "    elif x <= d[p][0.75]: \n",
    "        return 2\n",
    "    else:\n",
    "        return 1\n",
    "# Arguments (x = value, p = recency, monetary_value, frequency, k = quartiles dict)\n",
    "def FMScore(x,p,d):\n",
    "    if x <= d[p][0.25]:\n",
    "        return 1\n",
    "    elif x <= d[p][0.50]:\n",
    "        return 2\n",
    "    elif x <= d[p][0.75]: \n",
    "        return 3\n",
    "    else:\n",
    "        return 4"
   ]
  },
  {
   "cell_type": "code",
   "execution_count": 30,
   "metadata": {},
   "outputs": [],
   "source": [
    "#create rfm segmentation table\n",
    "rfm_segmentation = rfm\n",
    "rfm_segmentation['R_Quartile'] = rfm_segmentation['Recency'].apply(RScore, args=('Recency',quantiles,))\n",
    "rfm_segmentation['F_Quartile'] = rfm_segmentation['Frequency'].apply(FMScore, args=('Frequency',quantiles,))\n",
    "rfm_segmentation['M_Quartile'] = rfm_segmentation['Monetary'].apply(FMScore, args=('Monetary',quantiles,))"
   ]
  },
  {
   "cell_type": "code",
   "execution_count": 31,
   "metadata": {},
   "outputs": [
    {
     "data": {
      "text/html": [
       "<div>\n",
       "<style scoped>\n",
       "    .dataframe tbody tr th:only-of-type {\n",
       "        vertical-align: middle;\n",
       "    }\n",
       "\n",
       "    .dataframe tbody tr th {\n",
       "        vertical-align: top;\n",
       "    }\n",
       "\n",
       "    .dataframe thead th {\n",
       "        text-align: right;\n",
       "    }\n",
       "</style>\n",
       "<table border=\"1\" class=\"dataframe\">\n",
       "  <thead>\n",
       "    <tr style=\"text-align: right;\">\n",
       "      <th></th>\n",
       "      <th>Recency</th>\n",
       "      <th>Frequency</th>\n",
       "      <th>Monetary</th>\n",
       "      <th>R_Quartile</th>\n",
       "      <th>F_Quartile</th>\n",
       "      <th>M_Quartile</th>\n",
       "    </tr>\n",
       "    <tr>\n",
       "      <th>Customer_ID</th>\n",
       "      <th></th>\n",
       "      <th></th>\n",
       "      <th></th>\n",
       "      <th></th>\n",
       "      <th></th>\n",
       "      <th></th>\n",
       "    </tr>\n",
       "  </thead>\n",
       "  <tbody>\n",
       "    <tr>\n",
       "      <th>849386.0</th>\n",
       "      <td>28</td>\n",
       "      <td>3.0</td>\n",
       "      <td>120702.47000</td>\n",
       "      <td>2</td>\n",
       "      <td>1</td>\n",
       "      <td>1</td>\n",
       "    </tr>\n",
       "    <tr>\n",
       "      <th>7930137.0</th>\n",
       "      <td>8</td>\n",
       "      <td>8.0</td>\n",
       "      <td>338279.21800</td>\n",
       "      <td>4</td>\n",
       "      <td>4</td>\n",
       "      <td>4</td>\n",
       "    </tr>\n",
       "    <tr>\n",
       "      <th>10293501.0</th>\n",
       "      <td>9</td>\n",
       "      <td>5.0</td>\n",
       "      <td>198634.62555</td>\n",
       "      <td>3</td>\n",
       "      <td>3</td>\n",
       "      <td>3</td>\n",
       "    </tr>\n",
       "    <tr>\n",
       "      <th>59223614.0</th>\n",
       "      <td>74</td>\n",
       "      <td>3.0</td>\n",
       "      <td>127614.44830</td>\n",
       "      <td>2</td>\n",
       "      <td>1</td>\n",
       "      <td>1</td>\n",
       "    </tr>\n",
       "    <tr>\n",
       "      <th>66950680.0</th>\n",
       "      <td>80</td>\n",
       "      <td>4.0</td>\n",
       "      <td>167888.76422</td>\n",
       "      <td>1</td>\n",
       "      <td>2</td>\n",
       "      <td>3</td>\n",
       "    </tr>\n",
       "  </tbody>\n",
       "</table>\n",
       "</div>"
      ],
      "text/plain": [
       "             Recency  Frequency      Monetary  R_Quartile  F_Quartile  \\\n",
       "Customer_ID                                                             \n",
       "849386.0          28        3.0  120702.47000           2           1   \n",
       "7930137.0          8        8.0  338279.21800           4           4   \n",
       "10293501.0         9        5.0  198634.62555           3           3   \n",
       "59223614.0        74        3.0  127614.44830           2           1   \n",
       "66950680.0        80        4.0  167888.76422           1           2   \n",
       "\n",
       "             M_Quartile  \n",
       "Customer_ID              \n",
       "849386.0              1  \n",
       "7930137.0             4  \n",
       "10293501.0            3  \n",
       "59223614.0            1  \n",
       "66950680.0            3  "
      ]
     },
     "execution_count": 31,
     "metadata": {},
     "output_type": "execute_result"
    }
   ],
   "source": [
    "rfm_segmentation.head()"
   ]
  },
  {
   "cell_type": "code",
   "execution_count": 32,
   "metadata": {},
   "outputs": [
    {
     "data": {
      "text/html": [
       "<div>\n",
       "<style scoped>\n",
       "    .dataframe tbody tr th:only-of-type {\n",
       "        vertical-align: middle;\n",
       "    }\n",
       "\n",
       "    .dataframe tbody tr th {\n",
       "        vertical-align: top;\n",
       "    }\n",
       "\n",
       "    .dataframe thead th {\n",
       "        text-align: right;\n",
       "    }\n",
       "</style>\n",
       "<table border=\"1\" class=\"dataframe\">\n",
       "  <thead>\n",
       "    <tr style=\"text-align: right;\">\n",
       "      <th></th>\n",
       "      <th>Recency</th>\n",
       "      <th>Frequency</th>\n",
       "      <th>Monetary</th>\n",
       "      <th>R_Quartile</th>\n",
       "      <th>F_Quartile</th>\n",
       "      <th>M_Quartile</th>\n",
       "      <th>RFMScore</th>\n",
       "    </tr>\n",
       "    <tr>\n",
       "      <th>Customer_ID</th>\n",
       "      <th></th>\n",
       "      <th></th>\n",
       "      <th></th>\n",
       "      <th></th>\n",
       "      <th></th>\n",
       "      <th></th>\n",
       "      <th></th>\n",
       "    </tr>\n",
       "  </thead>\n",
       "  <tbody>\n",
       "    <tr>\n",
       "      <th>849386.0</th>\n",
       "      <td>28</td>\n",
       "      <td>3.0</td>\n",
       "      <td>120702.47000</td>\n",
       "      <td>2</td>\n",
       "      <td>1</td>\n",
       "      <td>1</td>\n",
       "      <td>211</td>\n",
       "    </tr>\n",
       "    <tr>\n",
       "      <th>7930137.0</th>\n",
       "      <td>8</td>\n",
       "      <td>8.0</td>\n",
       "      <td>338279.21800</td>\n",
       "      <td>4</td>\n",
       "      <td>4</td>\n",
       "      <td>4</td>\n",
       "      <td>444</td>\n",
       "    </tr>\n",
       "    <tr>\n",
       "      <th>10293501.0</th>\n",
       "      <td>9</td>\n",
       "      <td>5.0</td>\n",
       "      <td>198634.62555</td>\n",
       "      <td>3</td>\n",
       "      <td>3</td>\n",
       "      <td>3</td>\n",
       "      <td>333</td>\n",
       "    </tr>\n",
       "    <tr>\n",
       "      <th>59223614.0</th>\n",
       "      <td>74</td>\n",
       "      <td>3.0</td>\n",
       "      <td>127614.44830</td>\n",
       "      <td>2</td>\n",
       "      <td>1</td>\n",
       "      <td>1</td>\n",
       "      <td>211</td>\n",
       "    </tr>\n",
       "    <tr>\n",
       "      <th>66950680.0</th>\n",
       "      <td>80</td>\n",
       "      <td>4.0</td>\n",
       "      <td>167888.76422</td>\n",
       "      <td>1</td>\n",
       "      <td>2</td>\n",
       "      <td>3</td>\n",
       "      <td>123</td>\n",
       "    </tr>\n",
       "  </tbody>\n",
       "</table>\n",
       "</div>"
      ],
      "text/plain": [
       "             Recency  Frequency      Monetary  R_Quartile  F_Quartile  \\\n",
       "Customer_ID                                                             \n",
       "849386.0          28        3.0  120702.47000           2           1   \n",
       "7930137.0          8        8.0  338279.21800           4           4   \n",
       "10293501.0         9        5.0  198634.62555           3           3   \n",
       "59223614.0        74        3.0  127614.44830           2           1   \n",
       "66950680.0        80        4.0  167888.76422           1           2   \n",
       "\n",
       "             M_Quartile RFMScore  \n",
       "Customer_ID                       \n",
       "849386.0              1      211  \n",
       "7930137.0             4      444  \n",
       "10293501.0            3      333  \n",
       "59223614.0            1      211  \n",
       "66950680.0            3      123  "
      ]
     },
     "execution_count": 32,
     "metadata": {},
     "output_type": "execute_result"
    }
   ],
   "source": [
    "rfm_segmentation['RFMScore'] = rfm_segmentation.R_Quartile.map(str) \\\n",
    "+ rfm_segmentation.F_Quartile.map(str) \\\n",
    "+ rfm_segmentation.M_Quartile.map(str)\n",
    "rfm_segmentation.head()"
   ]
  },
  {
   "cell_type": "code",
   "execution_count": 33,
   "metadata": {},
   "outputs": [],
   "source": [
    "#Highest Recency score = 4: most recently claims.\n",
    "#Highest Frequency score = 4: most quantity claims.\n",
    "#Highest Monetary score = 4: spent the most claimcharges"
   ]
  },
  {
   "cell_type": "code",
   "execution_count": 34,
   "metadata": {},
   "outputs": [
    {
     "data": {
      "image/png": "[encoded data removed]",
      "text/plain": [
       "<Figure size 1080x360 with 1 Axes>"
      ]
     },
     "metadata": {
      "needs_background": "light"
     },
     "output_type": "display_data"
    }
   ],
   "source": [
    "ax = rfm['RFMScore'].value_counts().plot(kind='bar', figsize=(15, 5), fontsize=12)\n",
    "ax.set_xlabel(\"RFM Score\", fontsize=12)\n",
    "ax.set_ylabel(\"Count\", fontsize=12)\n",
    "plt.show()"
   ]
  },
  {
   "cell_type": "code",
   "execution_count": 35,
   "metadata": {},
   "outputs": [
    {
     "data": {
      "text/html": [
       "<div>\n",
       "<style scoped>\n",
       "    .dataframe tbody tr th:only-of-type {\n",
       "        vertical-align: middle;\n",
       "    }\n",
       "\n",
       "    .dataframe tbody tr th {\n",
       "        vertical-align: top;\n",
       "    }\n",
       "\n",
       "    .dataframe thead th {\n",
       "        text-align: right;\n",
       "    }\n",
       "</style>\n",
       "<table border=\"1\" class=\"dataframe\">\n",
       "  <thead>\n",
       "    <tr style=\"text-align: right;\">\n",
       "      <th></th>\n",
       "      <th>Recency</th>\n",
       "      <th>Frequency</th>\n",
       "      <th>Monetary</th>\n",
       "      <th>R_Quartile</th>\n",
       "      <th>F_Quartile</th>\n",
       "      <th>M_Quartile</th>\n",
       "      <th>RFMScore</th>\n",
       "    </tr>\n",
       "    <tr>\n",
       "      <th>Customer_ID</th>\n",
       "      <th></th>\n",
       "      <th></th>\n",
       "      <th></th>\n",
       "      <th></th>\n",
       "      <th></th>\n",
       "      <th></th>\n",
       "      <th></th>\n",
       "    </tr>\n",
       "  </thead>\n",
       "  <tbody>\n",
       "    <tr>\n",
       "      <th>7.930137e+06</th>\n",
       "      <td>8</td>\n",
       "      <td>8.0</td>\n",
       "      <td>338279.21800</td>\n",
       "      <td>4</td>\n",
       "      <td>4</td>\n",
       "      <td>4</td>\n",
       "      <td>444</td>\n",
       "    </tr>\n",
       "    <tr>\n",
       "      <th>7.930138e+10</th>\n",
       "      <td>8</td>\n",
       "      <td>8.0</td>\n",
       "      <td>335998.05099</td>\n",
       "      <td>4</td>\n",
       "      <td>4</td>\n",
       "      <td>4</td>\n",
       "      <td>444</td>\n",
       "    </tr>\n",
       "    <tr>\n",
       "      <th>7.930138e+07</th>\n",
       "      <td>8</td>\n",
       "      <td>8.0</td>\n",
       "      <td>316578.05099</td>\n",
       "      <td>4</td>\n",
       "      <td>4</td>\n",
       "      <td>4</td>\n",
       "      <td>444</td>\n",
       "    </tr>\n",
       "  </tbody>\n",
       "</table>\n",
       "</div>"
      ],
      "text/plain": [
       "              Recency  Frequency      Monetary  R_Quartile  F_Quartile  \\\n",
       "Customer_ID                                                              \n",
       "7.930137e+06        8        8.0  338279.21800           4           4   \n",
       "7.930138e+10        8        8.0  335998.05099           4           4   \n",
       "7.930138e+07        8        8.0  316578.05099           4           4   \n",
       "\n",
       "              M_Quartile RFMScore  \n",
       "Customer_ID                        \n",
       "7.930137e+06           4      444  \n",
       "7.930138e+10           4      444  \n",
       "7.930138e+07           4      444  "
      ]
     },
     "execution_count": 35,
     "metadata": {},
     "output_type": "execute_result"
    }
   ],
   "source": [
    "rfm_segmentation[rfm_segmentation['RFMScore']=='444'].sort_values('Monetary', ascending=False).head(10)"
   ]
  },
  {
   "cell_type": "code",
   "execution_count": 36,
   "metadata": {},
   "outputs": [
    {
     "name": "stdout",
     "output_type": "stream",
     "text": [
      "Worst Customers:  3\n",
      "Lost Customers:  3\n",
      "Almost Lost:  3\n",
      "Big Spenders:  0\n",
      "Loyal Customers:  0\n",
      "Best Customers:  0\n"
     ]
    }
   ],
   "source": [
    "print(\"Worst Customers: \",len(rfm_segmentation[rfm_segmentation['RFMScore']=='444']))\n",
    "print('Lost Customers: ',len(rfm_segmentation[rfm_segmentation['F_Quartile']==4]))\n",
    "print(\"Almost Lost: \",len(rfm_segmentation[rfm_segmentation['M_Quartile']==4]))\n",
    "print('Big Spenders: ', len(rfm_segmentation[rfm_segmentation['RFMScore']=='244']))\n",
    "print('Loyal Customers: ',len(rfm_segmentation[rfm_segmentation['RFMScore']=='144']))\n",
    "print('Best Customers: ',len(rfm_segmentation[rfm_segmentation['RFMScore']=='111']))"
   ]
  },
  {
   "cell_type": "code",
   "execution_count": 37,
   "metadata": {},
   "outputs": [
    {
     "name": "stdout",
     "output_type": "stream",
     "text": [
      "Customer_ID\n",
      "849386.0       4\n",
      "7930137.0     12\n",
      "10293501.0     9\n",
      "59223614.0     4\n",
      "66950680.0     6\n",
      "Name: RFM_Score, dtype: int64\n"
     ]
    }
   ],
   "source": [
    "rfm_segmentation['RFM_Score'] = rfm_segmentation[['R_Quartile','F_Quartile','M_Quartile']].sum(axis=1)\n",
    "print(rfm_segmentation['RFM_Score'].head())"
   ]
  },
  {
   "cell_type": "code",
   "execution_count": 41,
   "metadata": {},
   "outputs": [
    {
     "data": {
      "text/html": [
       "<div>\n",
       "<style scoped>\n",
       "    .dataframe tbody tr th:only-of-type {\n",
       "        vertical-align: middle;\n",
       "    }\n",
       "\n",
       "    .dataframe tbody tr th {\n",
       "        vertical-align: top;\n",
       "    }\n",
       "\n",
       "    .dataframe thead th {\n",
       "        text-align: right;\n",
       "    }\n",
       "</style>\n",
       "<table border=\"1\" class=\"dataframe\">\n",
       "  <thead>\n",
       "    <tr style=\"text-align: right;\">\n",
       "      <th></th>\n",
       "      <th>Recency</th>\n",
       "      <th>Frequency</th>\n",
       "      <th>Monetary</th>\n",
       "      <th>R_Quartile</th>\n",
       "      <th>F_Quartile</th>\n",
       "      <th>M_Quartile</th>\n",
       "      <th>RFMScore</th>\n",
       "      <th>RFM_Score</th>\n",
       "      <th>RFM_Level</th>\n",
       "    </tr>\n",
       "    <tr>\n",
       "      <th>Customer_ID</th>\n",
       "      <th></th>\n",
       "      <th></th>\n",
       "      <th></th>\n",
       "      <th></th>\n",
       "      <th></th>\n",
       "      <th></th>\n",
       "      <th></th>\n",
       "      <th></th>\n",
       "      <th></th>\n",
       "    </tr>\n",
       "  </thead>\n",
       "  <tbody>\n",
       "    <tr>\n",
       "      <th>849386.0</th>\n",
       "      <td>28</td>\n",
       "      <td>3.0</td>\n",
       "      <td>120702.47000</td>\n",
       "      <td>2</td>\n",
       "      <td>1</td>\n",
       "      <td>1</td>\n",
       "      <td>211</td>\n",
       "      <td>4</td>\n",
       "      <td>Best Customers</td>\n",
       "    </tr>\n",
       "    <tr>\n",
       "      <th>7930137.0</th>\n",
       "      <td>8</td>\n",
       "      <td>8.0</td>\n",
       "      <td>338279.21800</td>\n",
       "      <td>4</td>\n",
       "      <td>4</td>\n",
       "      <td>4</td>\n",
       "      <td>444</td>\n",
       "      <td>12</td>\n",
       "      <td>Worst Customers</td>\n",
       "    </tr>\n",
       "    <tr>\n",
       "      <th>10293501.0</th>\n",
       "      <td>9</td>\n",
       "      <td>5.0</td>\n",
       "      <td>198634.62555</td>\n",
       "      <td>3</td>\n",
       "      <td>3</td>\n",
       "      <td>3</td>\n",
       "      <td>333</td>\n",
       "      <td>9</td>\n",
       "      <td>Worst Customers</td>\n",
       "    </tr>\n",
       "    <tr>\n",
       "      <th>59223614.0</th>\n",
       "      <td>74</td>\n",
       "      <td>3.0</td>\n",
       "      <td>127614.44830</td>\n",
       "      <td>2</td>\n",
       "      <td>1</td>\n",
       "      <td>1</td>\n",
       "      <td>211</td>\n",
       "      <td>4</td>\n",
       "      <td>Best Customers</td>\n",
       "    </tr>\n",
       "    <tr>\n",
       "      <th>66950680.0</th>\n",
       "      <td>80</td>\n",
       "      <td>4.0</td>\n",
       "      <td>167888.76422</td>\n",
       "      <td>1</td>\n",
       "      <td>2</td>\n",
       "      <td>3</td>\n",
       "      <td>123</td>\n",
       "      <td>6</td>\n",
       "      <td>Big Spenders</td>\n",
       "    </tr>\n",
       "  </tbody>\n",
       "</table>\n",
       "</div>"
      ],
      "text/plain": [
       "             Recency  Frequency      Monetary  R_Quartile  F_Quartile  \\\n",
       "Customer_ID                                                             \n",
       "849386.0          28        3.0  120702.47000           2           1   \n",
       "7930137.0          8        8.0  338279.21800           4           4   \n",
       "10293501.0         9        5.0  198634.62555           3           3   \n",
       "59223614.0        74        3.0  127614.44830           2           1   \n",
       "66950680.0        80        4.0  167888.76422           1           2   \n",
       "\n",
       "             M_Quartile RFMScore  RFM_Score        RFM_Level  \n",
       "Customer_ID                                                   \n",
       "849386.0              1      211          4   Best Customers  \n",
       "7930137.0             4      444         12  Worst Customers  \n",
       "10293501.0            3      333          9  Worst Customers  \n",
       "59223614.0            1      211          4   Best Customers  \n",
       "66950680.0            3      123          6     Big Spenders  "
      ]
     },
     "execution_count": 41,
     "metadata": {},
     "output_type": "execute_result"
    }
   ],
   "source": [
    " #Define rfm_level function\n",
    "def rfm_level(rfm_segmentation):\n",
    "    if rfm_segmentation['RFM_Score'] >= 9:\n",
    "        return 'Worst Customers'\n",
    "    elif ((rfm_segmentation['RFM_Score'] >= 8) and (rfm_segmentation['RFM_Score'] < 9)):\n",
    "        return 'Lost Customers'\n",
    "    elif ((rfm_segmentation['RFM_Score'] >= 7) and (rfm_segmentation['RFM_Score'] < 8)):\n",
    "        return 'Almost Lost'\n",
    "    elif ((rfm_segmentation['RFM_Score'] >= 6) and (rfm_segmentation['RFM_Score'] < 7)):\n",
    "        return 'Big Spenders'\n",
    "    elif ((rfm_segmentation['RFM_Score'] >= 5) and (rfm_segmentation['RFM_Score'] < 6)):\n",
    "        return 'Loyal Customers'\n",
    "    elif ((rfm_segmentation['RFM_Score'] >= 4) and (rfm_segmentation['RFM_Score'] < 5)):\n",
    "        return 'Best Customers'\n",
    "    else:\n",
    "        return 'Require Activation'\n",
    "# Create a new variable RFM_Level\n",
    "rfm['RFM_Level'] = rfm.apply(rfm_level, axis=1)\n",
    "# Print the header with top 5 rows to the console\n",
    "rfm.head()"
   ]
  },
  {
   "cell_type": "code",
   "execution_count": 42,
   "metadata": {},
   "outputs": [
    {
     "name": "stdout",
     "output_type": "stream",
     "text": [
      "                Recency Frequency  Monetary      \n",
      "                   mean      mean      mean count\n",
      "RFM_Level                                        \n",
      "Best Customers     58.7       3.0  125600.5     3\n",
      "Big Spenders       80.0       4.0  167888.8     1\n",
      "Lost Customers      8.0       4.0  129958.1     2\n",
      "Loyal Customers    80.0       4.0  161788.8     1\n",
      "Worst Customers     8.4       6.8  277222.9     5\n"
     ]
    }
   ],
   "source": [
    "# Calculate average values for each RFM_Level, and return a size of each segment \n",
    "rfm_level_agg = rfm.groupby('RFM_Level').agg({\n",
    "    'Recency': 'mean',\n",
    "    'Frequency': 'mean',\n",
    "    'Monetary': ['mean', 'count']\n",
    "}).round(1)\n",
    "# Print the aggregated dataset\n",
    "print(rfm_level_agg)"
   ]
  },
  {
   "cell_type": "code",
   "execution_count": 43,
   "metadata": {},
   "outputs": [
    {
     "data": {
      "image/png": "[encoded data removed]",
      "text/plain": [
       "<Figure size 1152x648 with 1 Axes>"
      ]
     },
     "metadata": {
      "needs_background": "light"
     },
     "output_type": "display_data"
    }
   ],
   "source": [
    "\n",
    "rfm_level_agg.columns = rfm_level_agg.columns.droplevel()\n",
    "rfm_level_agg.columns = ['RecencyMean','FrequencyMean','MonetaryMean', 'Count']\n",
    "#Create our plot and resize it.\n",
    "fig = plt.gcf()\n",
    "ax = fig.add_subplot()\n",
    "fig.set_size_inches(16, 9)\n",
    "squarify.plot(sizes=rfm_level_agg['Count'], \n",
    "              label=['Worst Customers',\n",
    "                     'Lost Customers',\n",
    "                     'Almost Lost',\n",
    "                     'Needs Attention',\n",
    "                     'Big Spenders', \n",
    "                     'Loyal Customers', \n",
    "                     'Best Customers'], alpha=.6 )\n",
    "plt.title(\"RFM Segments\",fontsize=18,fontweight=\"bold\")\n",
    "plt.axis('off')\n",
    "plt.show()\n"
   ]
  },
  {
   "cell_type": "code",
   "execution_count": null,
   "metadata": {},
   "outputs": [],
   "source": []
  }
 ],
 "metadata": {
  "kernelspec": {
   "display_name": "Python 3",
   "language": "python",
   "name": "python3"
  },
  "language_info": {
   "codemirror_mode": {
    "name": "ipython",
    "version": 3
   },
   "file_extension": ".py",
   "mimetype": "text/x-python",
   "name": "python",
   "nbconvert_exporter": "python",
   "pygments_lexer": "ipython3",
   "version": "3.7.6"
  }
 },
 "nbformat": 4,
 "nbformat_minor": 4
}
