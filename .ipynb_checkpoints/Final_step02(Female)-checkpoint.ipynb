{
 "cells": [
  {
   "cell_type": "code",
   "execution_count": 1,
   "metadata": {},
   "outputs": [],
   "source": [
    "import numpy as np\n",
    "import pandas as pd\n",
    "import matplotlib.pyplot as plt\n",
    "%matplotlib inline\n",
    "import datetime as dt\n",
    "from scipy import stats\n",
    "import jenkspy\n",
    "import seaborn as sns\n",
    "import warnings\n",
    "warnings.filterwarnings(\"ignore\")\n",
    "import squarify"
   ]
  },
  {
   "cell_type": "code",
   "execution_count": 2,
   "metadata": {},
   "outputs": [],
   "source": [
    "data = pd.read_csv('C:/Users/Acer Pc/Desktop/Final/Final DataSet/New folder/InsuranceClaim_data.csv')"
   ]
  },
  {
   "cell_type": "code",
   "execution_count": 3,
   "metadata": {},
   "outputs": [
    {
     "data": {
      "text/html": [
       "<div>\n",
       "<style scoped>\n",
       "    .dataframe tbody tr th:only-of-type {\n",
       "        vertical-align: middle;\n",
       "    }\n",
       "\n",
       "    .dataframe tbody tr th {\n",
       "        vertical-align: top;\n",
       "    }\n",
       "\n",
       "    .dataframe thead th {\n",
       "        text-align: right;\n",
       "    }\n",
       "</style>\n",
       "<table border=\"1\" class=\"dataframe\">\n",
       "  <thead>\n",
       "    <tr style=\"text-align: right;\">\n",
       "      <th></th>\n",
       "      <th>Customer_ID</th>\n",
       "      <th>Claim_Invoice_No</th>\n",
       "      <th>Date</th>\n",
       "      <th>Age</th>\n",
       "      <th>Disease</th>\n",
       "      <th>Gender</th>\n",
       "      <th>BMI</th>\n",
       "      <th>Children</th>\n",
       "      <th>Smoker</th>\n",
       "      <th>Region</th>\n",
       "      <th>Charges</th>\n",
       "    </tr>\n",
       "  </thead>\n",
       "  <tbody>\n",
       "    <tr>\n",
       "      <th>0</th>\n",
       "      <td>4.892870e+10</td>\n",
       "      <td>1.640020e+11</td>\n",
       "      <td>4/17/2019</td>\n",
       "      <td>33</td>\n",
       "      <td>Urology</td>\n",
       "      <td>Male</td>\n",
       "      <td>33.4</td>\n",
       "      <td>3</td>\n",
       "      <td>1</td>\n",
       "      <td>2</td>\n",
       "      <td>38282.74950</td>\n",
       "    </tr>\n",
       "    <tr>\n",
       "      <th>1</th>\n",
       "      <td>4.892870e+10</td>\n",
       "      <td>1.640090e+11</td>\n",
       "      <td>7/4/2019</td>\n",
       "      <td>33</td>\n",
       "      <td>Urology</td>\n",
       "      <td>Male</td>\n",
       "      <td>33.4</td>\n",
       "      <td>3</td>\n",
       "      <td>1</td>\n",
       "      <td>2</td>\n",
       "      <td>36898.73308</td>\n",
       "    </tr>\n",
       "    <tr>\n",
       "      <th>2</th>\n",
       "      <td>4.892870e+10</td>\n",
       "      <td>1.650080e+11</td>\n",
       "      <td>6/7/2020</td>\n",
       "      <td>33</td>\n",
       "      <td>Urology</td>\n",
       "      <td>Male</td>\n",
       "      <td>33.4</td>\n",
       "      <td>3</td>\n",
       "      <td>1</td>\n",
       "      <td>2</td>\n",
       "      <td>48824.45000</td>\n",
       "    </tr>\n",
       "    <tr>\n",
       "      <th>3</th>\n",
       "      <td>4.892870e+10</td>\n",
       "      <td>1.650090e+11</td>\n",
       "      <td>7/26/2020</td>\n",
       "      <td>33</td>\n",
       "      <td>Urology</td>\n",
       "      <td>Male</td>\n",
       "      <td>33.4</td>\n",
       "      <td>3</td>\n",
       "      <td>1</td>\n",
       "      <td>2</td>\n",
       "      <td>38415.47400</td>\n",
       "    </tr>\n",
       "    <tr>\n",
       "      <th>4</th>\n",
       "      <td>4.892870e+10</td>\n",
       "      <td>1.643320e+11</td>\n",
       "      <td>1/5/2020</td>\n",
       "      <td>33</td>\n",
       "      <td>Urology</td>\n",
       "      <td>Male</td>\n",
       "      <td>33.4</td>\n",
       "      <td>3</td>\n",
       "      <td>1</td>\n",
       "      <td>2</td>\n",
       "      <td>37465.34375</td>\n",
       "    </tr>\n",
       "  </tbody>\n",
       "</table>\n",
       "</div>"
      ],
      "text/plain": [
       "    Customer_ID  Claim_Invoice_No       Date  Age  Disease Gender   BMI  \\\n",
       "0  4.892870e+10      1.640020e+11  4/17/2019   33  Urology   Male  33.4   \n",
       "1  4.892870e+10      1.640090e+11   7/4/2019   33  Urology   Male  33.4   \n",
       "2  4.892870e+10      1.650080e+11   6/7/2020   33  Urology   Male  33.4   \n",
       "3  4.892870e+10      1.650090e+11  7/26/2020   33  Urology   Male  33.4   \n",
       "4  4.892870e+10      1.643320e+11   1/5/2020   33  Urology   Male  33.4   \n",
       "\n",
       "   Children  Smoker  Region      Charges  \n",
       "0         3       1       2  38282.74950  \n",
       "1         3       1       2  36898.73308  \n",
       "2         3       1       2  48824.45000  \n",
       "3         3       1       2  38415.47400  \n",
       "4         3       1       2  37465.34375  "
      ]
     },
     "execution_count": 3,
     "metadata": {},
     "output_type": "execute_result"
    }
   ],
   "source": [
    "data.head()"
   ]
  },
  {
   "cell_type": "code",
   "execution_count": 4,
   "metadata": {},
   "outputs": [
    {
     "data": {
      "text/html": [
       "<div>\n",
       "<style scoped>\n",
       "    .dataframe tbody tr th:only-of-type {\n",
       "        vertical-align: middle;\n",
       "    }\n",
       "\n",
       "    .dataframe tbody tr th {\n",
       "        vertical-align: top;\n",
       "    }\n",
       "\n",
       "    .dataframe thead th {\n",
       "        text-align: right;\n",
       "    }\n",
       "</style>\n",
       "<table border=\"1\" class=\"dataframe\">\n",
       "  <thead>\n",
       "    <tr style=\"text-align: right;\">\n",
       "      <th></th>\n",
       "      <th>Customer_ID</th>\n",
       "      <th>Claim_Invoice_No</th>\n",
       "      <th>Date</th>\n",
       "      <th>Age</th>\n",
       "      <th>Disease</th>\n",
       "      <th>Gender</th>\n",
       "      <th>BMI</th>\n",
       "      <th>Children</th>\n",
       "      <th>Smoker</th>\n",
       "      <th>Region</th>\n",
       "      <th>Charges</th>\n",
       "    </tr>\n",
       "  </thead>\n",
       "  <tbody>\n",
       "    <tr>\n",
       "      <th>995</th>\n",
       "      <td>141199.0</td>\n",
       "      <td>3690637.0</td>\n",
       "      <td>10/21/2019</td>\n",
       "      <td>27</td>\n",
       "      <td>Urology</td>\n",
       "      <td>Male</td>\n",
       "      <td>33.33</td>\n",
       "      <td>4</td>\n",
       "      <td>1</td>\n",
       "      <td>2</td>\n",
       "      <td>37370.10</td>\n",
       "    </tr>\n",
       "    <tr>\n",
       "      <th>996</th>\n",
       "      <td>141199.0</td>\n",
       "      <td>3799137.0</td>\n",
       "      <td>4/20/2019</td>\n",
       "      <td>27</td>\n",
       "      <td>Urology</td>\n",
       "      <td>Male</td>\n",
       "      <td>33.33</td>\n",
       "      <td>4</td>\n",
       "      <td>1</td>\n",
       "      <td>2</td>\n",
       "      <td>36080.28</td>\n",
       "    </tr>\n",
       "    <tr>\n",
       "      <th>997</th>\n",
       "      <td>777906.0</td>\n",
       "      <td>108218.0</td>\n",
       "      <td>7/28/2020</td>\n",
       "      <td>62</td>\n",
       "      <td>Intestinal infectious diseases</td>\n",
       "      <td>Male</td>\n",
       "      <td>37.67</td>\n",
       "      <td>3</td>\n",
       "      <td>1</td>\n",
       "      <td>1</td>\n",
       "      <td>28468.00</td>\n",
       "    </tr>\n",
       "    <tr>\n",
       "      <th>998</th>\n",
       "      <td>777906.0</td>\n",
       "      <td>108218.0</td>\n",
       "      <td>6/3/2020</td>\n",
       "      <td>62</td>\n",
       "      <td>Intestinal infectious diseases</td>\n",
       "      <td>Male</td>\n",
       "      <td>37.67</td>\n",
       "      <td>3</td>\n",
       "      <td>1</td>\n",
       "      <td>1</td>\n",
       "      <td>27926.50</td>\n",
       "    </tr>\n",
       "    <tr>\n",
       "      <th>999</th>\n",
       "      <td>777906.0</td>\n",
       "      <td>108218.0</td>\n",
       "      <td>1/31/2020</td>\n",
       "      <td>62</td>\n",
       "      <td>Intestinal infectious diseases</td>\n",
       "      <td>Male</td>\n",
       "      <td>37.67</td>\n",
       "      <td>3</td>\n",
       "      <td>1</td>\n",
       "      <td>1</td>\n",
       "      <td>46710.20</td>\n",
       "    </tr>\n",
       "  </tbody>\n",
       "</table>\n",
       "</div>"
      ],
      "text/plain": [
       "     Customer_ID  Claim_Invoice_No        Date  Age  \\\n",
       "995     141199.0         3690637.0  10/21/2019   27   \n",
       "996     141199.0         3799137.0   4/20/2019   27   \n",
       "997     777906.0          108218.0   7/28/2020   62   \n",
       "998     777906.0          108218.0    6/3/2020   62   \n",
       "999     777906.0          108218.0   1/31/2020   62   \n",
       "\n",
       "                            Disease Gender    BMI  Children  Smoker  Region  \\\n",
       "995                         Urology   Male  33.33         4       1       2   \n",
       "996                         Urology   Male  33.33         4       1       2   \n",
       "997  Intestinal infectious diseases   Male  37.67         3       1       1   \n",
       "998  Intestinal infectious diseases   Male  37.67         3       1       1   \n",
       "999  Intestinal infectious diseases   Male  37.67         3       1       1   \n",
       "\n",
       "      Charges  \n",
       "995  37370.10  \n",
       "996  36080.28  \n",
       "997  28468.00  \n",
       "998  27926.50  \n",
       "999  46710.20  "
      ]
     },
     "execution_count": 4,
     "metadata": {},
     "output_type": "execute_result"
    }
   ],
   "source": [
    "data.tail()"
   ]
  },
  {
   "cell_type": "code",
   "execution_count": 5,
   "metadata": {},
   "outputs": [
    {
     "name": "stdout",
     "output_type": "stream",
     "text": [
      "<class 'pandas.core.frame.DataFrame'>\n",
      "RangeIndex: 1000 entries, 0 to 999\n",
      "Data columns (total 11 columns):\n",
      " #   Column            Non-Null Count  Dtype  \n",
      "---  ------            --------------  -----  \n",
      " 0   Customer_ID       1000 non-null   float64\n",
      " 1   Claim_Invoice_No  1000 non-null   float64\n",
      " 2   Date              1000 non-null   object \n",
      " 3   Age               1000 non-null   int64  \n",
      " 4   Disease           1000 non-null   object \n",
      " 5   Gender            1000 non-null   object \n",
      " 6   BMI               1000 non-null   float64\n",
      " 7   Children          1000 non-null   int64  \n",
      " 8   Smoker            1000 non-null   int64  \n",
      " 9   Region            1000 non-null   int64  \n",
      " 10  Charges           1000 non-null   float64\n",
      "dtypes: float64(4), int64(4), object(3)\n",
      "memory usage: 86.1+ KB\n"
     ]
    }
   ],
   "source": [
    "data.info()"
   ]
  },
  {
   "cell_type": "code",
   "execution_count": 6,
   "metadata": {},
   "outputs": [],
   "source": [
    "data= data[pd.notnull(data['Customer_ID'])]"
   ]
  },
  {
   "cell_type": "code",
   "execution_count": 7,
   "metadata": {},
   "outputs": [],
   "source": [
    "filtered_data=data[['Gender','Customer_ID']].drop_duplicates()"
   ]
  },
  {
   "cell_type": "code",
   "execution_count": 8,
   "metadata": {},
   "outputs": [
    {
     "data": {
      "text/plain": [
       "<matplotlib.axes._subplots.AxesSubplot at 0x1ea27966f08>"
      ]
     },
     "execution_count": 8,
     "metadata": {},
     "output_type": "execute_result"
    },
    {
     "data": {
      "image/png": "[encoded data removed]",
      "text/plain": [
       "<Figure size 432x288 with 1 Axes>"
      ]
     },
     "metadata": {
      "needs_background": "light"
     },
     "output_type": "display_data"
    }
   ],
   "source": [
    "#data.groupby('Gender').count()[\"record_id\"].plot(kind='bar')\n",
    "filtered_data.Gender.value_counts().plot(kind='bar')"
   ]
  },
  {
   "cell_type": "code",
   "execution_count": 9,
   "metadata": {},
   "outputs": [],
   "source": [
    "#select MaleData\n",
    "Female_data=data[data.Gender=='Female']\n"
   ]
  },
  {
   "cell_type": "code",
   "execution_count": 10,
   "metadata": {
    "scrolled": true
   },
   "outputs": [
    {
     "name": "stdout",
     "output_type": "stream",
     "text": [
      "<class 'pandas.core.frame.DataFrame'>\n",
      "Int64Index: 320 entries, 5 to 992\n",
      "Data columns (total 11 columns):\n",
      " #   Column            Non-Null Count  Dtype  \n",
      "---  ------            --------------  -----  \n",
      " 0   Customer_ID       320 non-null    float64\n",
      " 1   Claim_Invoice_No  320 non-null    float64\n",
      " 2   Date              320 non-null    object \n",
      " 3   Age               320 non-null    int64  \n",
      " 4   Disease           320 non-null    object \n",
      " 5   Gender            320 non-null    object \n",
      " 6   BMI               320 non-null    float64\n",
      " 7   Children          320 non-null    int64  \n",
      " 8   Smoker            320 non-null    int64  \n",
      " 9   Region            320 non-null    int64  \n",
      " 10  Charges           320 non-null    float64\n",
      "dtypes: float64(4), int64(4), object(3)\n",
      "memory usage: 30.0+ KB\n"
     ]
    }
   ],
   "source": [
    "Female_data.info()"
   ]
  },
  {
   "cell_type": "code",
   "execution_count": 11,
   "metadata": {
    "scrolled": false
   },
   "outputs": [
    {
     "data": {
      "text/html": [
       "<div>\n",
       "<style scoped>\n",
       "    .dataframe tbody tr th:only-of-type {\n",
       "        vertical-align: middle;\n",
       "    }\n",
       "\n",
       "    .dataframe tbody tr th {\n",
       "        vertical-align: top;\n",
       "    }\n",
       "\n",
       "    .dataframe thead th {\n",
       "        text-align: right;\n",
       "    }\n",
       "</style>\n",
       "<table border=\"1\" class=\"dataframe\">\n",
       "  <thead>\n",
       "    <tr style=\"text-align: right;\">\n",
       "      <th></th>\n",
       "      <th>Customer_ID</th>\n",
       "      <th>Claim_Invoice_No</th>\n",
       "      <th>Age</th>\n",
       "      <th>BMI</th>\n",
       "      <th>Children</th>\n",
       "      <th>Smoker</th>\n",
       "      <th>Region</th>\n",
       "      <th>Charges</th>\n",
       "    </tr>\n",
       "  </thead>\n",
       "  <tbody>\n",
       "    <tr>\n",
       "      <th>count</th>\n",
       "      <td>3.200000e+02</td>\n",
       "      <td>3.200000e+02</td>\n",
       "      <td>320.000000</td>\n",
       "      <td>320.000000</td>\n",
       "      <td>320.000000</td>\n",
       "      <td>320.000000</td>\n",
       "      <td>320.000000</td>\n",
       "      <td>320.000000</td>\n",
       "    </tr>\n",
       "    <tr>\n",
       "      <th>mean</th>\n",
       "      <td>5.082254e+12</td>\n",
       "      <td>1.995585e+11</td>\n",
       "      <td>41.056250</td>\n",
       "      <td>31.888547</td>\n",
       "      <td>1.403125</td>\n",
       "      <td>0.512500</td>\n",
       "      <td>1.715625</td>\n",
       "      <td>24605.465224</td>\n",
       "    </tr>\n",
       "    <tr>\n",
       "      <th>std</th>\n",
       "      <td>1.787701e+13</td>\n",
       "      <td>4.891963e+11</td>\n",
       "      <td>13.231835</td>\n",
       "      <td>5.889394</td>\n",
       "      <td>1.191660</td>\n",
       "      <td>0.500627</td>\n",
       "      <td>0.918500</td>\n",
       "      <td>12880.769466</td>\n",
       "    </tr>\n",
       "    <tr>\n",
       "      <th>min</th>\n",
       "      <td>4.024000e+03</td>\n",
       "      <td>3.944300e+04</td>\n",
       "      <td>18.000000</td>\n",
       "      <td>22.420000</td>\n",
       "      <td>0.000000</td>\n",
       "      <td>0.000000</td>\n",
       "      <td>0.000000</td>\n",
       "      <td>2026.974100</td>\n",
       "    </tr>\n",
       "    <tr>\n",
       "      <th>25%</th>\n",
       "      <td>2.940208e+06</td>\n",
       "      <td>4.265292e+06</td>\n",
       "      <td>28.000000</td>\n",
       "      <td>27.000000</td>\n",
       "      <td>0.000000</td>\n",
       "      <td>0.000000</td>\n",
       "      <td>1.000000</td>\n",
       "      <td>13303.846950</td>\n",
       "    </tr>\n",
       "    <tr>\n",
       "      <th>50%</th>\n",
       "      <td>3.666906e+07</td>\n",
       "      <td>1.628678e+08</td>\n",
       "      <td>47.000000</td>\n",
       "      <td>31.825000</td>\n",
       "      <td>2.000000</td>\n",
       "      <td>1.000000</td>\n",
       "      <td>2.000000</td>\n",
       "      <td>24535.698550</td>\n",
       "    </tr>\n",
       "    <tr>\n",
       "      <th>75%</th>\n",
       "      <td>2.285674e+10</td>\n",
       "      <td>1.623030e+11</td>\n",
       "      <td>52.000000</td>\n",
       "      <td>35.100000</td>\n",
       "      <td>2.000000</td>\n",
       "      <td>1.000000</td>\n",
       "      <td>2.000000</td>\n",
       "      <td>27346.042070</td>\n",
       "    </tr>\n",
       "    <tr>\n",
       "      <th>max</th>\n",
       "      <td>9.920000e+13</td>\n",
       "      <td>1.697030e+12</td>\n",
       "      <td>62.000000</td>\n",
       "      <td>52.800000</td>\n",
       "      <td>5.000000</td>\n",
       "      <td>1.000000</td>\n",
       "      <td>3.000000</td>\n",
       "      <td>49024.500000</td>\n",
       "    </tr>\n",
       "  </tbody>\n",
       "</table>\n",
       "</div>"
      ],
      "text/plain": [
       "        Customer_ID  Claim_Invoice_No         Age         BMI    Children  \\\n",
       "count  3.200000e+02      3.200000e+02  320.000000  320.000000  320.000000   \n",
       "mean   5.082254e+12      1.995585e+11   41.056250   31.888547    1.403125   \n",
       "std    1.787701e+13      4.891963e+11   13.231835    5.889394    1.191660   \n",
       "min    4.024000e+03      3.944300e+04   18.000000   22.420000    0.000000   \n",
       "25%    2.940208e+06      4.265292e+06   28.000000   27.000000    0.000000   \n",
       "50%    3.666906e+07      1.628678e+08   47.000000   31.825000    2.000000   \n",
       "75%    2.285674e+10      1.623030e+11   52.000000   35.100000    2.000000   \n",
       "max    9.920000e+13      1.697030e+12   62.000000   52.800000    5.000000   \n",
       "\n",
       "           Smoker      Region       Charges  \n",
       "count  320.000000  320.000000    320.000000  \n",
       "mean     0.512500    1.715625  24605.465224  \n",
       "std      0.500627    0.918500  12880.769466  \n",
       "min      0.000000    0.000000   2026.974100  \n",
       "25%      0.000000    1.000000  13303.846950  \n",
       "50%      1.000000    2.000000  24535.698550  \n",
       "75%      1.000000    2.000000  27346.042070  \n",
       "max      1.000000    3.000000  49024.500000  "
      ]
     },
     "execution_count": 11,
     "metadata": {},
     "output_type": "execute_result"
    }
   ],
   "source": [
    "Female_data.describe()"
   ]
  },
  {
   "cell_type": "code",
   "execution_count": 12,
   "metadata": {
    "scrolled": false
   },
   "outputs": [
    {
     "data": {
      "image/png": "[encoded data removed]",
      "text/plain": [
       "<Figure size 1080x432 with 1 Axes>"
      ]
     },
     "metadata": {
      "needs_background": "light"
     },
     "output_type": "display_data"
    }
   ],
   "source": [
    "age18_25 = Female_data.Age[(Female_data.Age <= 25) & (Female_data.Age >= 18)]\n",
    "age26_35 = Female_data.Age[(Female_data.Age <= 35) & (Female_data.Age >= 26)]\n",
    "age36_45 = Female_data.Age[(Female_data.Age <= 45) & (Female_data.Age >= 36)]\n",
    "age46_55 = Female_data.Age[(Female_data.Age <= 55) & (Female_data.Age >= 46)]\n",
    "age55above = Female_data.Age[Female_data.Age >= 56]\n",
    "\n",
    "x = [\"18-25\",\"26-35\",\"36-45\",\"46-55\",\"55+\"]\n",
    "y = [len(age18_25.values),len(age26_35.values),len(age36_45.values),len(age46_55.values),len(age55above.values)]\n",
    "\n",
    "plt.figure(figsize=(15,6))\n",
    "sns.barplot(x=x, y=y, palette=\"rocket\")\n",
    "plt.title(\"Number of Customer and Ages\")\n",
    "plt.xlabel(\"Age\")\n",
    "plt.ylabel(\"Number of Customer\")\n",
    "plt.show()"
   ]
  },
  {
   "cell_type": "code",
   "execution_count": 13,
   "metadata": {},
   "outputs": [],
   "source": [
    "#select Age Group\n",
    "#Age_data=Male_data[Male_data.Age=='age36_45']\n",
    "#Disease_data=data[data.Disease=='Diseases of the digestive system']\n",
    "#age36_45 = Male_data.Age[(Male_data.Age <= 45) & (Male_data.Age >= 36)]\n",
    "#Age_data = Male_data.len(age36_45.values)\n",
    " #Age_data =Male_data.Age[(Male_data.Age <= 45) & (Male_data.Age >= 36)]\n",
    "Age_data = Female_data[(Female_data.Age <= 55) & (Female_data.Age >= 46)]"
   ]
  },
  {
   "cell_type": "code",
   "execution_count": 14,
   "metadata": {},
   "outputs": [
    {
     "name": "stdout",
     "output_type": "stream",
     "text": [
      "<class 'pandas.core.frame.DataFrame'>\n",
      "Int64Index: 136 entries, 27 to 992\n",
      "Data columns (total 11 columns):\n",
      " #   Column            Non-Null Count  Dtype  \n",
      "---  ------            --------------  -----  \n",
      " 0   Customer_ID       136 non-null    float64\n",
      " 1   Claim_Invoice_No  136 non-null    float64\n",
      " 2   Date              136 non-null    object \n",
      " 3   Age               136 non-null    int64  \n",
      " 4   Disease           136 non-null    object \n",
      " 5   Gender            136 non-null    object \n",
      " 6   BMI               136 non-null    float64\n",
      " 7   Children          136 non-null    int64  \n",
      " 8   Smoker            136 non-null    int64  \n",
      " 9   Region            136 non-null    int64  \n",
      " 10  Charges           136 non-null    float64\n",
      "dtypes: float64(4), int64(4), object(3)\n",
      "memory usage: 12.8+ KB\n"
     ]
    }
   ],
   "source": [
    "Age_data.info()"
   ]
  },
  {
   "cell_type": "code",
   "execution_count": 15,
   "metadata": {
    "scrolled": false
   },
   "outputs": [
    {
     "data": {
      "text/plain": [
       "<matplotlib.axes._subplots.AxesSubplot at 0x1ea28362d48>"
      ]
     },
     "execution_count": 15,
     "metadata": {},
     "output_type": "execute_result"
    },
    {
     "data": {
      "image/png": "[encoded data removed]",
      "text/plain": [
       "<Figure size 432x288 with 1 Axes>"
      ]
     },
     "metadata": {
      "needs_background": "light"
     },
     "output_type": "display_data"
    }
   ],
   "source": [
    "#data.groupby('Disease').count()[\"record_id\"].plot(kind='bar')\n",
    "#Age_data.Age.value_counts().plot(kind='bar')\n",
    "Age_data.Disease.value_counts().plot(kind='bar')"
   ]
  },
  {
   "cell_type": "code",
   "execution_count": 16,
   "metadata": {},
   "outputs": [],
   "source": [
    "#select Diseases of the digestive system\n",
    "d_data=Age_data[Age_data.Disease=='Pregnancy & past pregnancy problems']"
   ]
  },
  {
   "cell_type": "code",
   "execution_count": 17,
   "metadata": {},
   "outputs": [],
   "source": [
    "d_data=d_data[['Customer_ID','Date','Claim_Invoice_No','Charges']]"
   ]
  },
  {
   "cell_type": "code",
   "execution_count": 18,
   "metadata": {},
   "outputs": [],
   "source": [
    "PRESENT = dt.datetime(2020,8,10)\n",
    "d_data['Date'] = pd.to_datetime(Age_data['Date'])"
   ]
  },
  {
   "cell_type": "code",
   "execution_count": 19,
   "metadata": {},
   "outputs": [
    {
     "data": {
      "text/plain": [
       "(Timestamp('2019-04-17 00:00:00'), Timestamp('2020-08-01 00:00:00'))"
      ]
     },
     "execution_count": 19,
     "metadata": {},
     "output_type": "execute_result"
    }
   ],
   "source": [
    "d_data['Date'].min(),d_data['Date'].max()"
   ]
  },
  {
   "cell_type": "code",
   "execution_count": 20,
   "metadata": {},
   "outputs": [
    {
     "data": {
      "text/html": [
       "<div>\n",
       "<style scoped>\n",
       "    .dataframe tbody tr th:only-of-type {\n",
       "        vertical-align: middle;\n",
       "    }\n",
       "\n",
       "    .dataframe tbody tr th {\n",
       "        vertical-align: top;\n",
       "    }\n",
       "\n",
       "    .dataframe thead th {\n",
       "        text-align: right;\n",
       "    }\n",
       "</style>\n",
       "<table border=\"1\" class=\"dataframe\">\n",
       "  <thead>\n",
       "    <tr style=\"text-align: right;\">\n",
       "      <th></th>\n",
       "      <th>Customer_ID</th>\n",
       "      <th>Date</th>\n",
       "      <th>Claim_Invoice_No</th>\n",
       "      <th>Charges</th>\n",
       "    </tr>\n",
       "  </thead>\n",
       "  <tbody>\n",
       "    <tr>\n",
       "      <th>27</th>\n",
       "      <td>6.620523e+09</td>\n",
       "      <td>2020-08-01</td>\n",
       "      <td>1.628030e+11</td>\n",
       "      <td>26392.26029</td>\n",
       "    </tr>\n",
       "    <tr>\n",
       "      <th>28</th>\n",
       "      <td>6.620523e+09</td>\n",
       "      <td>2019-09-13</td>\n",
       "      <td>1.628020e+11</td>\n",
       "      <td>43943.87610</td>\n",
       "    </tr>\n",
       "    <tr>\n",
       "      <th>29</th>\n",
       "      <td>6.620523e+09</td>\n",
       "      <td>2019-04-17</td>\n",
       "      <td>1.628020e+11</td>\n",
       "      <td>27346.04207</td>\n",
       "    </tr>\n",
       "    <tr>\n",
       "      <th>30</th>\n",
       "      <td>1.236079e+10</td>\n",
       "      <td>2020-07-18</td>\n",
       "      <td>1.636050e+11</td>\n",
       "      <td>42969.85270</td>\n",
       "    </tr>\n",
       "    <tr>\n",
       "      <th>31</th>\n",
       "      <td>1.236079e+10</td>\n",
       "      <td>2019-09-16</td>\n",
       "      <td>1.636040e+11</td>\n",
       "      <td>23887.66270</td>\n",
       "    </tr>\n",
       "  </tbody>\n",
       "</table>\n",
       "</div>"
      ],
      "text/plain": [
       "     Customer_ID       Date  Claim_Invoice_No      Charges\n",
       "27  6.620523e+09 2020-08-01      1.628030e+11  26392.26029\n",
       "28  6.620523e+09 2019-09-13      1.628020e+11  43943.87610\n",
       "29  6.620523e+09 2019-04-17      1.628020e+11  27346.04207\n",
       "30  1.236079e+10 2020-07-18      1.636050e+11  42969.85270\n",
       "31  1.236079e+10 2019-09-16      1.636040e+11  23887.66270"
      ]
     },
     "execution_count": 20,
     "metadata": {},
     "output_type": "execute_result"
    }
   ],
   "source": [
    "d_data.head()"
   ]
  },
  {
   "cell_type": "code",
   "execution_count": 21,
   "metadata": {},
   "outputs": [],
   "source": [
    "rfm= d_data.groupby('Customer_ID').agg({'Date': lambda date: (PRESENT - date.max()).days,\n",
    "'Claim_Invoice_No': lambda num: len(num),\n",
    "'Charges': lambda price: price.sum()})"
   ]
  },
  {
   "cell_type": "code",
   "execution_count": 22,
   "metadata": {},
   "outputs": [],
   "source": [
    "#RECENCY (R): Days since last Claim\n",
    "#FREQUENCY (F): Total number of Claims\n",
    "#MONETARY VALUE (M): Total claim charge for this policyholder"
   ]
  },
  {
   "cell_type": "code",
   "execution_count": 23,
   "metadata": {},
   "outputs": [
    {
     "data": {
      "text/plain": [
       "Index(['Date', 'Claim_Invoice_No', 'Charges'], dtype='object')"
      ]
     },
     "execution_count": 23,
     "metadata": {},
     "output_type": "execute_result"
    }
   ],
   "source": [
    "rfm.columns"
   ]
  },
  {
   "cell_type": "code",
   "execution_count": 24,
   "metadata": {},
   "outputs": [],
   "source": [
    "# Change the name of columns\n",
    "rfm.columns=['Recency','Frequency','Monetary']"
   ]
  },
  {
   "cell_type": "code",
   "execution_count": 25,
   "metadata": {},
   "outputs": [],
   "source": [
    "rfm['Recency'] = rfm['Recency'].astype(int)"
   ]
  },
  {
   "cell_type": "code",
   "execution_count": 26,
   "metadata": {},
   "outputs": [
    {
     "data": {
      "text/html": [
       "<div>\n",
       "<style scoped>\n",
       "    .dataframe tbody tr th:only-of-type {\n",
       "        vertical-align: middle;\n",
       "    }\n",
       "\n",
       "    .dataframe tbody tr th {\n",
       "        vertical-align: top;\n",
       "    }\n",
       "\n",
       "    .dataframe thead th {\n",
       "        text-align: right;\n",
       "    }\n",
       "</style>\n",
       "<table border=\"1\" class=\"dataframe\">\n",
       "  <thead>\n",
       "    <tr style=\"text-align: right;\">\n",
       "      <th></th>\n",
       "      <th>Recency</th>\n",
       "      <th>Frequency</th>\n",
       "      <th>Monetary</th>\n",
       "    </tr>\n",
       "    <tr>\n",
       "      <th>Customer_ID</th>\n",
       "      <th></th>\n",
       "      <th></th>\n",
       "      <th></th>\n",
       "    </tr>\n",
       "  </thead>\n",
       "  <tbody>\n",
       "    <tr>\n",
       "      <th>23199.0</th>\n",
       "      <td>9</td>\n",
       "      <td>3.0</td>\n",
       "      <td>97682.17846</td>\n",
       "    </tr>\n",
       "    <tr>\n",
       "      <th>66205.0</th>\n",
       "      <td>9</td>\n",
       "      <td>1.0</td>\n",
       "      <td>26492.29000</td>\n",
       "    </tr>\n",
       "    <tr>\n",
       "      <th>66305.0</th>\n",
       "      <td>332</td>\n",
       "      <td>1.0</td>\n",
       "      <td>43943.61000</td>\n",
       "    </tr>\n",
       "    <tr>\n",
       "      <th>66345.0</th>\n",
       "      <td>481</td>\n",
       "      <td>1.0</td>\n",
       "      <td>27246.00000</td>\n",
       "    </tr>\n",
       "    <tr>\n",
       "      <th>66397.0</th>\n",
       "      <td>9</td>\n",
       "      <td>2.0</td>\n",
       "      <td>25258.33120</td>\n",
       "    </tr>\n",
       "  </tbody>\n",
       "</table>\n",
       "</div>"
      ],
      "text/plain": [
       "             Recency  Frequency     Monetary\n",
       "Customer_ID                                 \n",
       "23199.0            9        3.0  97682.17846\n",
       "66205.0            9        1.0  26492.29000\n",
       "66305.0          332        1.0  43943.61000\n",
       "66345.0          481        1.0  27246.00000\n",
       "66397.0            9        2.0  25258.33120"
      ]
     },
     "execution_count": 26,
     "metadata": {},
     "output_type": "execute_result"
    }
   ],
   "source": [
    "rfm.head()"
   ]
  },
  {
   "cell_type": "code",
   "execution_count": 27,
   "metadata": {},
   "outputs": [
    {
     "data": {
      "text/html": [
       "<div>\n",
       "<style scoped>\n",
       "    .dataframe tbody tr th:only-of-type {\n",
       "        vertical-align: middle;\n",
       "    }\n",
       "\n",
       "    .dataframe tbody tr th {\n",
       "        vertical-align: top;\n",
       "    }\n",
       "\n",
       "    .dataframe thead th {\n",
       "        text-align: right;\n",
       "    }\n",
       "</style>\n",
       "<table border=\"1\" class=\"dataframe\">\n",
       "  <thead>\n",
       "    <tr style=\"text-align: right;\">\n",
       "      <th></th>\n",
       "      <th>Recency</th>\n",
       "      <th>Frequency</th>\n",
       "      <th>Monetary</th>\n",
       "    </tr>\n",
       "  </thead>\n",
       "  <tbody>\n",
       "    <tr>\n",
       "      <th>0.25</th>\n",
       "      <td>15.00</td>\n",
       "      <td>2.0</td>\n",
       "      <td>27057.5725</td>\n",
       "    </tr>\n",
       "    <tr>\n",
       "      <th>0.50</th>\n",
       "      <td>27.00</td>\n",
       "      <td>3.0</td>\n",
       "      <td>90012.3430</td>\n",
       "    </tr>\n",
       "    <tr>\n",
       "      <th>0.75</th>\n",
       "      <td>49.25</td>\n",
       "      <td>3.0</td>\n",
       "      <td>94133.8891</td>\n",
       "    </tr>\n",
       "  </tbody>\n",
       "</table>\n",
       "</div>"
      ],
      "text/plain": [
       "      Recency  Frequency    Monetary\n",
       "0.25    15.00        2.0  27057.5725\n",
       "0.50    27.00        3.0  90012.3430\n",
       "0.75    49.25        3.0  94133.8891"
      ]
     },
     "execution_count": 27,
     "metadata": {},
     "output_type": "execute_result"
    }
   ],
   "source": [
    "quantiles = rfm.quantile(q=[0.25,0.5,0.75])\n",
    "quantiles"
   ]
  },
  {
   "cell_type": "code",
   "execution_count": 28,
   "metadata": {},
   "outputs": [
    {
     "data": {
      "text/plain": [
       "{'Recency': {0.25: 15.0, 0.5: 27.0, 0.75: 49.25},\n",
       " 'Frequency': {0.25: 2.0, 0.5: 3.0, 0.75: 3.0},\n",
       " 'Monetary': {0.25: 27057.572500000002,\n",
       "  0.5: 90012.34300000001,\n",
       "  0.75: 94133.8891}}"
      ]
     },
     "execution_count": 28,
     "metadata": {},
     "output_type": "execute_result"
    }
   ],
   "source": [
    "quantiles.to_dict()"
   ]
  },
  {
   "cell_type": "code",
   "execution_count": 29,
   "metadata": {},
   "outputs": [],
   "source": [
    "# Arguments (x = value, p = recency, monetary_value, frequency, d = quartiles dict)\n",
    "def RScore(x,p,d):\n",
    "    if x <= d[p][0.25]:\n",
    "        return 4\n",
    "    elif x <= d[p][0.50]:\n",
    "        return 3\n",
    "    elif x <= d[p][0.75]: \n",
    "        return 2\n",
    "    else:\n",
    "        return 1\n",
    "# Arguments (x = value, p = recency, monetary_value, frequency, k = quartiles dict)\n",
    "def FMScore(x,p,d):\n",
    "    if x <= d[p][0.25]:\n",
    "        return 1\n",
    "    elif x <= d[p][0.50]:\n",
    "        return 2\n",
    "    elif x <= d[p][0.75]: \n",
    "        return 3\n",
    "    else:\n",
    "        return 4"
   ]
  },
  {
   "cell_type": "code",
   "execution_count": 30,
   "metadata": {},
   "outputs": [],
   "source": [
    "#create rfm segmentation table\n",
    "rfm_segmentation = rfm\n",
    "rfm_segmentation['R_Quartile'] = rfm_segmentation['Recency'].apply(RScore, args=('Recency',quantiles,))\n",
    "rfm_segmentation['F_Quartile'] = rfm_segmentation['Frequency'].apply(FMScore, args=('Frequency',quantiles,))\n",
    "rfm_segmentation['M_Quartile'] = rfm_segmentation['Monetary'].apply(FMScore, args=('Monetary',quantiles,))"
   ]
  },
  {
   "cell_type": "code",
   "execution_count": 31,
   "metadata": {},
   "outputs": [
    {
     "data": {
      "text/html": [
       "<div>\n",
       "<style scoped>\n",
       "    .dataframe tbody tr th:only-of-type {\n",
       "        vertical-align: middle;\n",
       "    }\n",
       "\n",
       "    .dataframe tbody tr th {\n",
       "        vertical-align: top;\n",
       "    }\n",
       "\n",
       "    .dataframe thead th {\n",
       "        text-align: right;\n",
       "    }\n",
       "</style>\n",
       "<table border=\"1\" class=\"dataframe\">\n",
       "  <thead>\n",
       "    <tr style=\"text-align: right;\">\n",
       "      <th></th>\n",
       "      <th>Recency</th>\n",
       "      <th>Frequency</th>\n",
       "      <th>Monetary</th>\n",
       "      <th>R_Quartile</th>\n",
       "      <th>F_Quartile</th>\n",
       "      <th>M_Quartile</th>\n",
       "    </tr>\n",
       "    <tr>\n",
       "      <th>Customer_ID</th>\n",
       "      <th></th>\n",
       "      <th></th>\n",
       "      <th></th>\n",
       "      <th></th>\n",
       "      <th></th>\n",
       "      <th></th>\n",
       "    </tr>\n",
       "  </thead>\n",
       "  <tbody>\n",
       "    <tr>\n",
       "      <th>23199.0</th>\n",
       "      <td>9</td>\n",
       "      <td>3.0</td>\n",
       "      <td>97682.17846</td>\n",
       "      <td>4</td>\n",
       "      <td>2</td>\n",
       "      <td>4</td>\n",
       "    </tr>\n",
       "    <tr>\n",
       "      <th>66205.0</th>\n",
       "      <td>9</td>\n",
       "      <td>1.0</td>\n",
       "      <td>26492.29000</td>\n",
       "      <td>4</td>\n",
       "      <td>1</td>\n",
       "      <td>1</td>\n",
       "    </tr>\n",
       "    <tr>\n",
       "      <th>66305.0</th>\n",
       "      <td>332</td>\n",
       "      <td>1.0</td>\n",
       "      <td>43943.61000</td>\n",
       "      <td>1</td>\n",
       "      <td>1</td>\n",
       "      <td>2</td>\n",
       "    </tr>\n",
       "    <tr>\n",
       "      <th>66345.0</th>\n",
       "      <td>481</td>\n",
       "      <td>1.0</td>\n",
       "      <td>27246.00000</td>\n",
       "      <td>1</td>\n",
       "      <td>1</td>\n",
       "      <td>2</td>\n",
       "    </tr>\n",
       "    <tr>\n",
       "      <th>66397.0</th>\n",
       "      <td>9</td>\n",
       "      <td>2.0</td>\n",
       "      <td>25258.33120</td>\n",
       "      <td>4</td>\n",
       "      <td>1</td>\n",
       "      <td>1</td>\n",
       "    </tr>\n",
       "  </tbody>\n",
       "</table>\n",
       "</div>"
      ],
      "text/plain": [
       "             Recency  Frequency     Monetary  R_Quartile  F_Quartile  \\\n",
       "Customer_ID                                                            \n",
       "23199.0            9        3.0  97682.17846           4           2   \n",
       "66205.0            9        1.0  26492.29000           4           1   \n",
       "66305.0          332        1.0  43943.61000           1           1   \n",
       "66345.0          481        1.0  27246.00000           1           1   \n",
       "66397.0            9        2.0  25258.33120           4           1   \n",
       "\n",
       "             M_Quartile  \n",
       "Customer_ID              \n",
       "23199.0               4  \n",
       "66205.0               1  \n",
       "66305.0               2  \n",
       "66345.0               2  \n",
       "66397.0               1  "
      ]
     },
     "execution_count": 31,
     "metadata": {},
     "output_type": "execute_result"
    }
   ],
   "source": [
    "rfm_segmentation.head()"
   ]
  },
  {
   "cell_type": "code",
   "execution_count": 32,
   "metadata": {},
   "outputs": [
    {
     "data": {
      "text/html": [
       "<div>\n",
       "<style scoped>\n",
       "    .dataframe tbody tr th:only-of-type {\n",
       "        vertical-align: middle;\n",
       "    }\n",
       "\n",
       "    .dataframe tbody tr th {\n",
       "        vertical-align: top;\n",
       "    }\n",
       "\n",
       "    .dataframe thead th {\n",
       "        text-align: right;\n",
       "    }\n",
       "</style>\n",
       "<table border=\"1\" class=\"dataframe\">\n",
       "  <thead>\n",
       "    <tr style=\"text-align: right;\">\n",
       "      <th></th>\n",
       "      <th>Recency</th>\n",
       "      <th>Frequency</th>\n",
       "      <th>Monetary</th>\n",
       "      <th>R_Quartile</th>\n",
       "      <th>F_Quartile</th>\n",
       "      <th>M_Quartile</th>\n",
       "      <th>RFMScore</th>\n",
       "    </tr>\n",
       "    <tr>\n",
       "      <th>Customer_ID</th>\n",
       "      <th></th>\n",
       "      <th></th>\n",
       "      <th></th>\n",
       "      <th></th>\n",
       "      <th></th>\n",
       "      <th></th>\n",
       "      <th></th>\n",
       "    </tr>\n",
       "  </thead>\n",
       "  <tbody>\n",
       "    <tr>\n",
       "      <th>23199.0</th>\n",
       "      <td>9</td>\n",
       "      <td>3.0</td>\n",
       "      <td>97682.17846</td>\n",
       "      <td>4</td>\n",
       "      <td>2</td>\n",
       "      <td>4</td>\n",
       "      <td>424</td>\n",
       "    </tr>\n",
       "    <tr>\n",
       "      <th>66205.0</th>\n",
       "      <td>9</td>\n",
       "      <td>1.0</td>\n",
       "      <td>26492.29000</td>\n",
       "      <td>4</td>\n",
       "      <td>1</td>\n",
       "      <td>1</td>\n",
       "      <td>411</td>\n",
       "    </tr>\n",
       "    <tr>\n",
       "      <th>66305.0</th>\n",
       "      <td>332</td>\n",
       "      <td>1.0</td>\n",
       "      <td>43943.61000</td>\n",
       "      <td>1</td>\n",
       "      <td>1</td>\n",
       "      <td>2</td>\n",
       "      <td>112</td>\n",
       "    </tr>\n",
       "    <tr>\n",
       "      <th>66345.0</th>\n",
       "      <td>481</td>\n",
       "      <td>1.0</td>\n",
       "      <td>27246.00000</td>\n",
       "      <td>1</td>\n",
       "      <td>1</td>\n",
       "      <td>2</td>\n",
       "      <td>112</td>\n",
       "    </tr>\n",
       "    <tr>\n",
       "      <th>66397.0</th>\n",
       "      <td>9</td>\n",
       "      <td>2.0</td>\n",
       "      <td>25258.33120</td>\n",
       "      <td>4</td>\n",
       "      <td>1</td>\n",
       "      <td>1</td>\n",
       "      <td>411</td>\n",
       "    </tr>\n",
       "  </tbody>\n",
       "</table>\n",
       "</div>"
      ],
      "text/plain": [
       "             Recency  Frequency     Monetary  R_Quartile  F_Quartile  \\\n",
       "Customer_ID                                                            \n",
       "23199.0            9        3.0  97682.17846           4           2   \n",
       "66205.0            9        1.0  26492.29000           4           1   \n",
       "66305.0          332        1.0  43943.61000           1           1   \n",
       "66345.0          481        1.0  27246.00000           1           1   \n",
       "66397.0            9        2.0  25258.33120           4           1   \n",
       "\n",
       "             M_Quartile RFMScore  \n",
       "Customer_ID                       \n",
       "23199.0               4      424  \n",
       "66205.0               1      411  \n",
       "66305.0               2      112  \n",
       "66345.0               2      112  \n",
       "66397.0               1      411  "
      ]
     },
     "execution_count": 32,
     "metadata": {},
     "output_type": "execute_result"
    }
   ],
   "source": [
    "rfm_segmentation['RFMScore'] = rfm_segmentation.R_Quartile.map(str) \\\n",
    "+ rfm_segmentation.F_Quartile.map(str) \\\n",
    "+ rfm_segmentation.M_Quartile.map(str)\n",
    "rfm_segmentation.head()"
   ]
  },
  {
   "cell_type": "code",
   "execution_count": 33,
   "metadata": {},
   "outputs": [],
   "source": [
    "#Highest Recency score = 4: most recently claims.\n",
    "#Highest Frequency score = 4: most quantity claims.\n",
    "#Highest Monetary score = 4: spent the most claimcharges"
   ]
  },
  {
   "cell_type": "code",
   "execution_count": 34,
   "metadata": {},
   "outputs": [
    {
     "data": {
      "image/png": "[encoded data removed]",
      "text/plain": [
       "<Figure size 1080x360 with 1 Axes>"
      ]
     },
     "metadata": {
      "needs_background": "light"
     },
     "output_type": "display_data"
    }
   ],
   "source": [
    "ax = rfm['RFMScore'].value_counts().plot(kind='bar', figsize=(15, 5), fontsize=12)\n",
    "ax.set_xlabel(\"RFM Score\", fontsize=12)\n",
    "ax.set_ylabel(\"Count\", fontsize=12)\n",
    "plt.show()"
   ]
  },
  {
   "cell_type": "code",
   "execution_count": 35,
   "metadata": {},
   "outputs": [
    {
     "data": {
      "text/html": [
       "<div>\n",
       "<style scoped>\n",
       "    .dataframe tbody tr th:only-of-type {\n",
       "        vertical-align: middle;\n",
       "    }\n",
       "\n",
       "    .dataframe tbody tr th {\n",
       "        vertical-align: top;\n",
       "    }\n",
       "\n",
       "    .dataframe thead th {\n",
       "        text-align: right;\n",
       "    }\n",
       "</style>\n",
       "<table border=\"1\" class=\"dataframe\">\n",
       "  <thead>\n",
       "    <tr style=\"text-align: right;\">\n",
       "      <th></th>\n",
       "      <th>Recency</th>\n",
       "      <th>Frequency</th>\n",
       "      <th>Monetary</th>\n",
       "      <th>R_Quartile</th>\n",
       "      <th>F_Quartile</th>\n",
       "      <th>M_Quartile</th>\n",
       "      <th>RFMScore</th>\n",
       "    </tr>\n",
       "    <tr>\n",
       "      <th>Customer_ID</th>\n",
       "      <th></th>\n",
       "      <th></th>\n",
       "      <th></th>\n",
       "      <th></th>\n",
       "      <th></th>\n",
       "      <th></th>\n",
       "      <th></th>\n",
       "    </tr>\n",
       "  </thead>\n",
       "  <tbody>\n",
       "  </tbody>\n",
       "</table>\n",
       "</div>"
      ],
      "text/plain": [
       "Empty DataFrame\n",
       "Columns: [Recency, Frequency, Monetary, R_Quartile, F_Quartile, M_Quartile, RFMScore]\n",
       "Index: []"
      ]
     },
     "execution_count": 35,
     "metadata": {},
     "output_type": "execute_result"
    }
   ],
   "source": [
    "rfm_segmentation[rfm_segmentation['RFMScore']=='444'].sort_values('Monetary', ascending=False).head(10)"
   ]
  },
  {
   "cell_type": "code",
   "execution_count": 36,
   "metadata": {},
   "outputs": [
    {
     "name": "stdout",
     "output_type": "stream",
     "text": [
      "Worst Customers:  0\n",
      "Lost Customers:  0\n",
      "Almost Lost:  4\n",
      "Big Spenders:  0\n",
      "Loyal Customers:  0\n",
      "Best Customers:  2\n"
     ]
    }
   ],
   "source": [
    "print(\"Worst Customers: \",len(rfm_segmentation[rfm_segmentation['RFMScore']=='444']))\n",
    "print('Lost Customers: ',len(rfm_segmentation[rfm_segmentation['F_Quartile']==4]))\n",
    "print(\"Almost Lost: \",len(rfm_segmentation[rfm_segmentation['M_Quartile']==4]))\n",
    "print('Big Spenders: ', len(rfm_segmentation[rfm_segmentation['RFMScore']=='244']))\n",
    "print('Loyal Customers: ',len(rfm_segmentation[rfm_segmentation['RFMScore']=='144']))\n",
    "print('Best Customers: ',len(rfm_segmentation[rfm_segmentation['RFMScore']=='111']))"
   ]
  },
  {
   "cell_type": "code",
   "execution_count": 37,
   "metadata": {},
   "outputs": [
    {
     "name": "stdout",
     "output_type": "stream",
     "text": [
      "Customer_ID\n",
      "23199.0    10\n",
      "66205.0     6\n",
      "66305.0     4\n",
      "66345.0     4\n",
      "66397.0     6\n",
      "Name: RFM_Score, dtype: int64\n"
     ]
    }
   ],
   "source": [
    "rfm_segmentation['RFM_Score'] = rfm_segmentation[['R_Quartile','F_Quartile','M_Quartile']].sum(axis=1)\n",
    "print(rfm_segmentation['RFM_Score'].head())"
   ]
  },
  {
   "cell_type": "code",
   "execution_count": 38,
   "metadata": {},
   "outputs": [
    {
     "data": {
      "text/html": [
       "<div>\n",
       "<style scoped>\n",
       "    .dataframe tbody tr th:only-of-type {\n",
       "        vertical-align: middle;\n",
       "    }\n",
       "\n",
       "    .dataframe tbody tr th {\n",
       "        vertical-align: top;\n",
       "    }\n",
       "\n",
       "    .dataframe thead th {\n",
       "        text-align: right;\n",
       "    }\n",
       "</style>\n",
       "<table border=\"1\" class=\"dataframe\">\n",
       "  <thead>\n",
       "    <tr style=\"text-align: right;\">\n",
       "      <th></th>\n",
       "      <th>Recency</th>\n",
       "      <th>Frequency</th>\n",
       "      <th>Monetary</th>\n",
       "      <th>R_Quartile</th>\n",
       "      <th>F_Quartile</th>\n",
       "      <th>M_Quartile</th>\n",
       "      <th>RFMScore</th>\n",
       "      <th>RFM_Score</th>\n",
       "      <th>RFM_Level</th>\n",
       "    </tr>\n",
       "    <tr>\n",
       "      <th>Customer_ID</th>\n",
       "      <th></th>\n",
       "      <th></th>\n",
       "      <th></th>\n",
       "      <th></th>\n",
       "      <th></th>\n",
       "      <th></th>\n",
       "      <th></th>\n",
       "      <th></th>\n",
       "      <th></th>\n",
       "    </tr>\n",
       "  </thead>\n",
       "  <tbody>\n",
       "    <tr>\n",
       "      <th>23199.0</th>\n",
       "      <td>9</td>\n",
       "      <td>3.0</td>\n",
       "      <td>97682.17846</td>\n",
       "      <td>4</td>\n",
       "      <td>2</td>\n",
       "      <td>4</td>\n",
       "      <td>424</td>\n",
       "      <td>10</td>\n",
       "      <td>Worst Customers</td>\n",
       "    </tr>\n",
       "    <tr>\n",
       "      <th>66205.0</th>\n",
       "      <td>9</td>\n",
       "      <td>1.0</td>\n",
       "      <td>26492.29000</td>\n",
       "      <td>4</td>\n",
       "      <td>1</td>\n",
       "      <td>1</td>\n",
       "      <td>411</td>\n",
       "      <td>6</td>\n",
       "      <td>Big Spenders</td>\n",
       "    </tr>\n",
       "    <tr>\n",
       "      <th>66305.0</th>\n",
       "      <td>332</td>\n",
       "      <td>1.0</td>\n",
       "      <td>43943.61000</td>\n",
       "      <td>1</td>\n",
       "      <td>1</td>\n",
       "      <td>2</td>\n",
       "      <td>112</td>\n",
       "      <td>4</td>\n",
       "      <td>Best Customers</td>\n",
       "    </tr>\n",
       "    <tr>\n",
       "      <th>66345.0</th>\n",
       "      <td>481</td>\n",
       "      <td>1.0</td>\n",
       "      <td>27246.00000</td>\n",
       "      <td>1</td>\n",
       "      <td>1</td>\n",
       "      <td>2</td>\n",
       "      <td>112</td>\n",
       "      <td>4</td>\n",
       "      <td>Best Customers</td>\n",
       "    </tr>\n",
       "    <tr>\n",
       "      <th>66397.0</th>\n",
       "      <td>9</td>\n",
       "      <td>2.0</td>\n",
       "      <td>25258.33120</td>\n",
       "      <td>4</td>\n",
       "      <td>1</td>\n",
       "      <td>1</td>\n",
       "      <td>411</td>\n",
       "      <td>6</td>\n",
       "      <td>Big Spenders</td>\n",
       "    </tr>\n",
       "  </tbody>\n",
       "</table>\n",
       "</div>"
      ],
      "text/plain": [
       "             Recency  Frequency     Monetary  R_Quartile  F_Quartile  \\\n",
       "Customer_ID                                                            \n",
       "23199.0            9        3.0  97682.17846           4           2   \n",
       "66205.0            9        1.0  26492.29000           4           1   \n",
       "66305.0          332        1.0  43943.61000           1           1   \n",
       "66345.0          481        1.0  27246.00000           1           1   \n",
       "66397.0            9        2.0  25258.33120           4           1   \n",
       "\n",
       "             M_Quartile RFMScore  RFM_Score        RFM_Level  \n",
       "Customer_ID                                                   \n",
       "23199.0               4      424         10  Worst Customers  \n",
       "66205.0               1      411          6     Big Spenders  \n",
       "66305.0               2      112          4   Best Customers  \n",
       "66345.0               2      112          4   Best Customers  \n",
       "66397.0               1      411          6     Big Spenders  "
      ]
     },
     "execution_count": 38,
     "metadata": {},
     "output_type": "execute_result"
    }
   ],
   "source": [
    " #Define rfm_level function\n",
    "def rfm_level(rfm_segmentation):\n",
    "    if rfm_segmentation['RFM_Score'] >= 9:\n",
    "        return 'Worst Customers'\n",
    "    elif ((rfm_segmentation['RFM_Score'] >= 8) and (rfm_segmentation['RFM_Score'] < 9)):\n",
    "        return 'Lost Customers'\n",
    "    elif ((rfm_segmentation['RFM_Score'] >= 7) and (rfm_segmentation['RFM_Score'] < 8)):\n",
    "        return 'Almost Lost'\n",
    "    elif ((rfm_segmentation['RFM_Score'] >= 6) and (rfm_segmentation['RFM_Score'] < 7)):\n",
    "        return 'Big Spenders'\n",
    "    elif ((rfm_segmentation['RFM_Score'] >= 5) and (rfm_segmentation['RFM_Score'] < 6)):\n",
    "        return 'Loyal Customers'\n",
    "    elif ((rfm_segmentation['RFM_Score'] >= 4) and (rfm_segmentation['RFM_Score'] < 5)):\n",
    "        return 'Best Customers'\n",
    "    else:\n",
    "        return 'Require Activation'\n",
    "# Create a new variable RFM_Level\n",
    "rfm['RFM_Level'] = rfm.apply(rfm_level, axis=1)\n",
    "# Print the header with top 5 rows to the console\n",
    "rfm.head()"
   ]
  },
  {
   "cell_type": "code",
   "execution_count": 39,
   "metadata": {},
   "outputs": [
    {
     "name": "stdout",
     "output_type": "stream",
     "text": [
      "                   Recency Frequency  Monetary      \n",
      "                      mean      mean      mean count\n",
      "RFM_Level                                           \n",
      "Almost Lost           29.0       3.0   91579.3     4\n",
      "Best Customers       406.5       1.0   35594.8     2\n",
      "Big Spenders          16.3       2.0   47036.9     3\n",
      "Lost Customers        23.0       3.0   90664.8     1\n",
      "Require Activation   104.0       2.0   22715.1     2\n",
      "Worst Customers       14.5       3.0  103569.1     4\n"
     ]
    }
   ],
   "source": [
    "# Calculate average values for each RFM_Level, and return a size of each segment \n",
    "rfm_level_agg = rfm.groupby('RFM_Level').agg({\n",
    "    'Recency': 'mean',\n",
    "    'Frequency': 'mean',\n",
    "    'Monetary': ['mean', 'count']\n",
    "}).round(1)\n",
    "# Print the aggregated dataset\n",
    "print(rfm_level_agg)"
   ]
  },
  {
   "cell_type": "code",
   "execution_count": 40,
   "metadata": {},
   "outputs": [
    {
     "data": {
      "image/png": "[encoded data removed]",
      "text/plain": [
       "<Figure size 1152x648 with 1 Axes>"
      ]
     },
     "metadata": {
      "needs_background": "light"
     },
     "output_type": "display_data"
    }
   ],
   "source": [
    "\n",
    "rfm_level_agg.columns = rfm_level_agg.columns.droplevel()\n",
    "rfm_level_agg.columns = ['RecencyMean','FrequencyMean','MonetaryMean', 'Count']\n",
    "#Create our plot and resize it.\n",
    "fig = plt.gcf()\n",
    "ax = fig.add_subplot()\n",
    "fig.set_size_inches(16, 9)\n",
    "squarify.plot(sizes=rfm_level_agg['Count'], \n",
    "              label=['Worst Customers',\n",
    "                     'Lost Customers',\n",
    "                     'Almost Lost',\n",
    "                     'Needs Attention',\n",
    "                     'Big Spenders', \n",
    "                     'Loyal Customers', \n",
    "                     'Best Customers'], alpha=.6 )\n",
    "plt.title(\"RFM Segments\",fontsize=18,fontweight=\"bold\")\n",
    "plt.axis('off')\n",
    "plt.show()\n"
   ]
  },
  {
   "cell_type": "code",
   "execution_count": null,
   "metadata": {},
   "outputs": [],
   "source": []
  }
 ],
 "metadata": {
  "kernelspec": {
   "display_name": "Python 3",
   "language": "python",
   "name": "python3"
  },
  "language_info": {
   "codemirror_mode": {
    "name": "ipython",
    "version": 3
   },
   "file_extension": ".py",
   "mimetype": "text/x-python",
   "name": "python",
   "nbconvert_exporter": "python",
   "pygments_lexer": "ipython3",
   "version": "3.7.6"
  }
 },
 "nbformat": 4,
 "nbformat_minor": 4
}
